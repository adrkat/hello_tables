{
 "cells": [
  {
   "cell_type": "markdown",
   "id": "04b81b23",
   "metadata": {},
   "source": [
    "## Import the required libraries"
   ]
  },
  {
   "cell_type": "code",
   "execution_count": 230,
   "id": "16996128",
   "metadata": {},
   "outputs": [],
   "source": [
    "import pandas as pd\n",
    "import numpy as np\n",
    "import matplotlib.pyplot as plt\n",
    "import seaborn as sb\n",
    "from datetime import timedelta,datetime\n",
    "from sklearn.preprocessing import StandardScaler\n",
    "from sklearn.cluster import KMeans\n",
    "from sklearn.metrics import silhouette_score\n",
    "from sklearn.decomposition import PCA"
   ]
  },
  {
   "cell_type": "markdown",
   "id": "a13af88b",
   "metadata": {},
   "source": [
    "## Read datasets"
   ]
  },
  {
   "cell_type": "code",
   "execution_count": 455,
   "id": "2a8c4975",
   "metadata": {},
   "outputs": [],
   "source": [
    "games = pd.read_csv('Casino games.csv')\n",
    "users = pd.read_csv('Casino Users.csv') \n",
    "wallet = pd.read_csv('Customer Wallet.csv')\n"
   ]
  },
  {
   "cell_type": "markdown",
   "id": "b7417e75",
   "metadata": {},
   "source": [
    "## Exploratory analysis "
   ]
  },
  {
   "cell_type": "markdown",
   "id": "b24a3a06",
   "metadata": {},
   "source": [
    "### Games"
   ]
  },
  {
   "cell_type": "code",
   "execution_count": 3,
   "id": "0474eebc",
   "metadata": {},
   "outputs": [
    {
     "data": {
      "text/plain": [
       "Casino_Provider     object\n",
       "UserID               int64\n",
       "IsJackpotWinID       int64\n",
       "IsFreeSpinID         int64\n",
       "Date                object\n",
       "IsLiveID             int64\n",
       "Hold               float64\n",
       "dtype: object"
      ]
     },
     "execution_count": 3,
     "metadata": {},
     "output_type": "execute_result"
    }
   ],
   "source": [
    "# Data types\n",
    "games.dtypes"
   ]
  },
  {
   "cell_type": "code",
   "execution_count": 91,
   "id": "5cf67e44",
   "metadata": {},
   "outputs": [
    {
     "data": {
      "text/plain": [
       "(9823921, 153350, 9823921)"
      ]
     },
     "execution_count": 91,
     "metadata": {},
     "output_type": "execute_result"
    }
   ],
   "source": [
    "# Shape, unique ids, check for duplicates\n",
    "len(games),games.UserID.nunique(),len(games.drop_duplicates())"
   ]
  },
  {
   "cell_type": "code",
   "execution_count": 70,
   "id": "1f506270",
   "metadata": {},
   "outputs": [
    {
     "data": {
      "text/plain": [
       "Casino_Provider    0\n",
       "UserID             0\n",
       "IsJackpotWinID     0\n",
       "IsFreeSpinID       0\n",
       "Date               0\n",
       "IsLiveID           0\n",
       "Hold               0\n",
       "dtype: int64"
      ]
     },
     "execution_count": 70,
     "metadata": {},
     "output_type": "execute_result"
    }
   ],
   "source": [
    "# count nulls per column\n",
    "games.isnull().sum()"
   ]
  },
  {
   "cell_type": "markdown",
   "id": "2d3bff75",
   "metadata": {},
   "source": [
    "### Users"
   ]
  },
  {
   "cell_type": "code",
   "execution_count": 39,
   "id": "755ebbd2",
   "metadata": {},
   "outputs": [
    {
     "data": {
      "text/plain": [
       "UserProfileId         int64\n",
       "BirthDate            object\n",
       "ZipCode              object\n",
       "CountryName          object\n",
       "Sex                  object\n",
       "Registration Date    object\n",
       "City                 object\n",
       "CountryId             int64\n",
       "StatusSysname        object\n",
       "dtype: object"
      ]
     },
     "execution_count": 39,
     "metadata": {},
     "output_type": "execute_result"
    }
   ],
   "source": [
    "users.dtypes"
   ]
  },
  {
   "cell_type": "code",
   "execution_count": 95,
   "id": "524be6f2",
   "metadata": {},
   "outputs": [
    {
     "data": {
      "text/plain": [
       "(10641, 6029, 6258)"
      ]
     },
     "execution_count": 95,
     "metadata": {},
     "output_type": "execute_result"
    }
   ],
   "source": [
    "len(users),users.UserProfileId.nunique(),len(users.drop_duplicates())"
   ]
  },
  {
   "cell_type": "code",
   "execution_count": 69,
   "id": "a5a1b4c0",
   "metadata": {},
   "outputs": [
    {
     "data": {
      "text/plain": [
       "UserProfileId        0\n",
       "BirthDate            0\n",
       "ZipCode              0\n",
       "CountryName          0\n",
       "Sex                  0\n",
       "Registration Date    0\n",
       "City                 0\n",
       "CountryId            0\n",
       "StatusSysname        0\n",
       "dtype: int64"
      ]
     },
     "execution_count": 69,
     "metadata": {},
     "output_type": "execute_result"
    }
   ],
   "source": [
    "users.isnull().sum()"
   ]
  },
  {
   "cell_type": "code",
   "execution_count": 97,
   "id": "4d5e8914",
   "metadata": {},
   "outputs": [
    {
     "data": {
      "text/plain": [
       "(6029, 6029, 6029)"
      ]
     },
     "execution_count": 97,
     "metadata": {},
     "output_type": "execute_result"
    }
   ],
   "source": [
    "len(users),users.UserProfileId.nunique(),len(users.drop_duplicates())"
   ]
  },
  {
   "cell_type": "markdown",
   "id": "5a9481ab",
   "metadata": {},
   "source": [
    "### Wallet"
   ]
  },
  {
   "cell_type": "code",
   "execution_count": 40,
   "id": "a8842788",
   "metadata": {},
   "outputs": [
    {
     "data": {
      "text/plain": [
       "WalletActionId      int64\n",
       "UserProfileId       int64\n",
       "Type                int64\n",
       "TypeSysname        object\n",
       "Amount            float64\n",
       "MethodSysname      object\n",
       "Created            object\n",
       "dtype: object"
      ]
     },
     "execution_count": 40,
     "metadata": {},
     "output_type": "execute_result"
    }
   ],
   "source": [
    "wallet.dtypes"
   ]
  },
  {
   "cell_type": "code",
   "execution_count": 68,
   "id": "63ae85ca",
   "metadata": {},
   "outputs": [
    {
     "data": {
      "text/plain": [
       "WalletActionId    0\n",
       "UserProfileId     0\n",
       "Type              0\n",
       "TypeSysname       0\n",
       "Amount            0\n",
       "MethodSysname     0\n",
       "Created           0\n",
       "dtype: int64"
      ]
     },
     "execution_count": 68,
     "metadata": {},
     "output_type": "execute_result"
    }
   ],
   "source": [
    "wallet.isnull().sum()"
   ]
  },
  {
   "cell_type": "code",
   "execution_count": 98,
   "id": "9a07234a",
   "metadata": {},
   "outputs": [
    {
     "data": {
      "text/plain": [
       "(38294, 2392, 38294)"
      ]
     },
     "execution_count": 98,
     "metadata": {},
     "output_type": "execute_result"
    }
   ],
   "source": [
    "len(wallet),wallet.UserProfileId.nunique(),len(wallet.drop_duplicates())"
   ]
  },
  {
   "cell_type": "markdown",
   "id": "47d7d372",
   "metadata": {},
   "source": [
    "## Cleansing"
   ]
  },
  {
   "cell_type": "code",
   "execution_count": 456,
   "id": "6aef8f77",
   "metadata": {},
   "outputs": [],
   "source": [
    "# Rename columns\n",
    "users = users.rename({'UserProfileId': 'UserID'}, axis=1) \n",
    "wallet= wallet.rename({'UserProfileId': 'UserID'}, axis=1) \n",
    "\n",
    "# Abs values\n",
    "wallet['Amount'] = wallet['Amount'].abs()\n",
    "\n",
    "# String to datetime format (for Frequency,Recency and age kpis)\n",
    "wallet['Created'] = pd.to_datetime(wallet['Created'])\n",
    "games['Date'] = pd.to_datetime(games['Date'])\n",
    "users['BirthDate'] = pd.to_datetime(users['BirthDate'])\n",
    "\n",
    "# Order by date (for Frequency kpi (shift step))\n",
    "wallet = wallet.sort_values(by=['Created'], ascending=True)\n",
    "games = games.sort_values(by=['Date'], ascending=True)\n",
    "\n",
    "# Drop dups\n",
    "users = users.drop_duplicates(subset='UserID', keep='first')"
   ]
  },
  {
   "cell_type": "markdown",
   "id": "6263c2fd",
   "metadata": {},
   "source": [
    "## Create KPIs"
   ]
  },
  {
   "cell_type": "markdown",
   "id": "54fcd3c0",
   "metadata": {},
   "source": [
    "### Most popular games"
   ]
  },
  {
   "cell_type": "code",
   "execution_count": 457,
   "id": "54e7d8d7",
   "metadata": {},
   "outputs": [
    {
     "data": {
      "text/html": [
       "<div>\n",
       "<style scoped>\n",
       "    .dataframe tbody tr th:only-of-type {\n",
       "        vertical-align: middle;\n",
       "    }\n",
       "\n",
       "    .dataframe tbody tr th {\n",
       "        vertical-align: top;\n",
       "    }\n",
       "\n",
       "    .dataframe thead th {\n",
       "        text-align: right;\n",
       "    }\n",
       "</style>\n",
       "<table border=\"1\" class=\"dataframe\">\n",
       "  <thead>\n",
       "    <tr style=\"text-align: right;\">\n",
       "      <th></th>\n",
       "      <th>Casino_Provider</th>\n",
       "      <th>count</th>\n",
       "    </tr>\n",
       "  </thead>\n",
       "  <tbody>\n",
       "    <tr>\n",
       "      <th>9</th>\n",
       "      <td>PlayTech</td>\n",
       "      <td>2800617</td>\n",
       "    </tr>\n",
       "    <tr>\n",
       "      <th>8</th>\n",
       "      <td>PlayNGo</td>\n",
       "      <td>1977991</td>\n",
       "    </tr>\n",
       "    <tr>\n",
       "      <th>10</th>\n",
       "      <td>PragmaticPlay</td>\n",
       "      <td>1474608</td>\n",
       "    </tr>\n",
       "    <tr>\n",
       "      <th>6</th>\n",
       "      <td>Nyx</td>\n",
       "      <td>946275</td>\n",
       "    </tr>\n",
       "    <tr>\n",
       "      <th>5</th>\n",
       "      <td>NetEnt</td>\n",
       "      <td>861109</td>\n",
       "    </tr>\n",
       "    <tr>\n",
       "      <th>3</th>\n",
       "      <td>Iforium</td>\n",
       "      <td>846699</td>\n",
       "    </tr>\n",
       "    <tr>\n",
       "      <th>11</th>\n",
       "      <td>RedTiger</td>\n",
       "      <td>604913</td>\n",
       "    </tr>\n",
       "    <tr>\n",
       "      <th>12</th>\n",
       "      <td>Skywind</td>\n",
       "      <td>138956</td>\n",
       "    </tr>\n",
       "    <tr>\n",
       "      <th>1</th>\n",
       "      <td>Evolution</td>\n",
       "      <td>117923</td>\n",
       "    </tr>\n",
       "    <tr>\n",
       "      <th>7</th>\n",
       "      <td>Oryx</td>\n",
       "      <td>30383</td>\n",
       "    </tr>\n",
       "    <tr>\n",
       "      <th>4</th>\n",
       "      <td>MicroGaming</td>\n",
       "      <td>17369</td>\n",
       "    </tr>\n",
       "    <tr>\n",
       "      <th>0</th>\n",
       "      <td>Edict</td>\n",
       "      <td>4974</td>\n",
       "    </tr>\n",
       "    <tr>\n",
       "      <th>2</th>\n",
       "      <td>EvolutionDirect</td>\n",
       "      <td>2104</td>\n",
       "    </tr>\n",
       "  </tbody>\n",
       "</table>\n",
       "</div>"
      ],
      "text/plain": [
       "    Casino_Provider    count\n",
       "9          PlayTech  2800617\n",
       "8           PlayNGo  1977991\n",
       "10    PragmaticPlay  1474608\n",
       "6               Nyx   946275\n",
       "5            NetEnt   861109\n",
       "3           Iforium   846699\n",
       "11         RedTiger   604913\n",
       "12          Skywind   138956\n",
       "1         Evolution   117923\n",
       "7              Oryx    30383\n",
       "4       MicroGaming    17369\n",
       "0             Edict     4974\n",
       "2   EvolutionDirect     2104"
      ]
     },
     "execution_count": 457,
     "metadata": {},
     "output_type": "execute_result"
    }
   ],
   "source": [
    "# Calculate number of appearance per casino game \n",
    "popular_games = games.groupby('Casino_Provider').agg({'Casino_Provider':['count']})\n",
    "# Flatten multi index\n",
    "popular_games = popular_games.Casino_Provider\n",
    "popular_games = popular_games.reset_index()\n",
    "popular_games.sort_values(by=['count'],ascending=False)"
   ]
  },
  {
   "cell_type": "code",
   "execution_count": 9,
   "id": "edc4fe83",
   "metadata": {},
   "outputs": [
    {
     "data": {
      "text/plain": [
       "Text(0, 0.5, 'Number of appearance')"
      ]
     },
     "execution_count": 9,
     "metadata": {},
     "output_type": "execute_result"
    },
    {
     "data": {
      "image/png": "[encoded data removed]",
      "text/plain": [
       "<Figure size 432x288 with 1 Axes>"
      ]
     },
     "metadata": {
      "needs_background": "light"
     },
     "output_type": "display_data"
    }
   ],
   "source": [
    "# Bar plot\n",
    "popular_games.plot.bar(x=\"Casino_Provider\", y=\"count\", title=\"Popular casino games\");\n",
    "plt.xlabel(\"Casino games\")\n",
    "plt.ylabel(\"Number of appearance\")"
   ]
  },
  {
   "cell_type": "markdown",
   "id": "d93e656f",
   "metadata": {},
   "source": [
    "#### PlayTech is the casino game that appears the most times"
   ]
  },
  {
   "cell_type": "code",
   "execution_count": 75,
   "id": "a17a23da",
   "metadata": {},
   "outputs": [
    {
     "data": {
      "text/html": [
       "<div>\n",
       "<style scoped>\n",
       "    .dataframe tbody tr th:only-of-type {\n",
       "        vertical-align: middle;\n",
       "    }\n",
       "\n",
       "    .dataframe tbody tr th {\n",
       "        vertical-align: top;\n",
       "    }\n",
       "\n",
       "    .dataframe thead tr th {\n",
       "        text-align: left;\n",
       "    }\n",
       "\n",
       "    .dataframe thead tr:last-of-type th {\n",
       "        text-align: right;\n",
       "    }\n",
       "</style>\n",
       "<table border=\"1\" class=\"dataframe\">\n",
       "  <thead>\n",
       "    <tr>\n",
       "      <th></th>\n",
       "      <th>Hold</th>\n",
       "    </tr>\n",
       "    <tr>\n",
       "      <th></th>\n",
       "      <th>mean</th>\n",
       "    </tr>\n",
       "    <tr>\n",
       "      <th>Casino_Provider</th>\n",
       "      <th></th>\n",
       "    </tr>\n",
       "  </thead>\n",
       "  <tbody>\n",
       "    <tr>\n",
       "      <th>Edict</th>\n",
       "      <td>264.876653</td>\n",
       "    </tr>\n",
       "    <tr>\n",
       "      <th>Evolution</th>\n",
       "      <td>569.712408</td>\n",
       "    </tr>\n",
       "    <tr>\n",
       "      <th>EvolutionDirect</th>\n",
       "      <td>-90.064903</td>\n",
       "    </tr>\n",
       "    <tr>\n",
       "      <th>Iforium</th>\n",
       "      <td>195.928262</td>\n",
       "    </tr>\n",
       "    <tr>\n",
       "      <th>MicroGaming</th>\n",
       "      <td>346.403214</td>\n",
       "    </tr>\n",
       "    <tr>\n",
       "      <th>NetEnt</th>\n",
       "      <td>57.989146</td>\n",
       "    </tr>\n",
       "    <tr>\n",
       "      <th>Nyx</th>\n",
       "      <td>139.597824</td>\n",
       "    </tr>\n",
       "    <tr>\n",
       "      <th>Oryx</th>\n",
       "      <td>116.856932</td>\n",
       "    </tr>\n",
       "    <tr>\n",
       "      <th>PlayNGo</th>\n",
       "      <td>31.558141</td>\n",
       "    </tr>\n",
       "    <tr>\n",
       "      <th>PlayTech</th>\n",
       "      <td>52.211160</td>\n",
       "    </tr>\n",
       "    <tr>\n",
       "      <th>PragmaticPlay</th>\n",
       "      <td>50.737045</td>\n",
       "    </tr>\n",
       "    <tr>\n",
       "      <th>RedTiger</th>\n",
       "      <td>11.169445</td>\n",
       "    </tr>\n",
       "    <tr>\n",
       "      <th>Skywind</th>\n",
       "      <td>120.552340</td>\n",
       "    </tr>\n",
       "  </tbody>\n",
       "</table>\n",
       "</div>"
      ],
      "text/plain": [
       "                       Hold\n",
       "                       mean\n",
       "Casino_Provider            \n",
       "Edict            264.876653\n",
       "Evolution        569.712408\n",
       "EvolutionDirect  -90.064903\n",
       "Iforium          195.928262\n",
       "MicroGaming      346.403214\n",
       "NetEnt            57.989146\n",
       "Nyx              139.597824\n",
       "Oryx             116.856932\n",
       "PlayNGo           31.558141\n",
       "PlayTech          52.211160\n",
       "PragmaticPlay     50.737045\n",
       "RedTiger          11.169445\n",
       "Skywind          120.552340"
      ]
     },
     "execution_count": 75,
     "metadata": {},
     "output_type": "execute_result"
    }
   ],
   "source": [
    "# How much does a casino hold on average (good for casino-bad for player) ? \n",
    "hold_mean_games = games.groupby(['Casino_Provider']).agg({'Hold':['mean']})\n",
    "hold_mean_games"
   ]
  },
  {
   "cell_type": "markdown",
   "id": "7b7bac24",
   "metadata": {},
   "source": [
    "### Most profitable games"
   ]
  },
  {
   "cell_type": "code",
   "execution_count": 10,
   "id": "115405af",
   "metadata": {},
   "outputs": [
    {
     "data": {
      "text/html": [
       "<div>\n",
       "<style scoped>\n",
       "    .dataframe tbody tr th:only-of-type {\n",
       "        vertical-align: middle;\n",
       "    }\n",
       "\n",
       "    .dataframe tbody tr th {\n",
       "        vertical-align: top;\n",
       "    }\n",
       "\n",
       "    .dataframe thead th {\n",
       "        text-align: right;\n",
       "    }\n",
       "</style>\n",
       "<table border=\"1\" class=\"dataframe\">\n",
       "  <thead>\n",
       "    <tr style=\"text-align: right;\">\n",
       "      <th></th>\n",
       "      <th>Casino_Provider</th>\n",
       "      <th>min</th>\n",
       "      <th>max</th>\n",
       "    </tr>\n",
       "  </thead>\n",
       "  <tbody>\n",
       "    <tr>\n",
       "      <th>0</th>\n",
       "      <td>Edict</td>\n",
       "      <td>-2.146252e+05</td>\n",
       "      <td>8.149306e+04</td>\n",
       "    </tr>\n",
       "    <tr>\n",
       "      <th>1</th>\n",
       "      <td>Evolution</td>\n",
       "      <td>-3.581500e+06</td>\n",
       "      <td>7.160386e+06</td>\n",
       "    </tr>\n",
       "    <tr>\n",
       "      <th>2</th>\n",
       "      <td>EvolutionDirect</td>\n",
       "      <td>-3.643297e+05</td>\n",
       "      <td>2.487654e+04</td>\n",
       "    </tr>\n",
       "    <tr>\n",
       "      <th>3</th>\n",
       "      <td>Iforium</td>\n",
       "      <td>-1.352475e+06</td>\n",
       "      <td>4.935180e+05</td>\n",
       "    </tr>\n",
       "    <tr>\n",
       "      <th>4</th>\n",
       "      <td>MicroGaming</td>\n",
       "      <td>-6.724329e+05</td>\n",
       "      <td>3.383730e+05</td>\n",
       "    </tr>\n",
       "    <tr>\n",
       "      <th>5</th>\n",
       "      <td>NetEnt</td>\n",
       "      <td>-4.197709e+05</td>\n",
       "      <td>2.972727e+05</td>\n",
       "    </tr>\n",
       "    <tr>\n",
       "      <th>6</th>\n",
       "      <td>Nyx</td>\n",
       "      <td>-2.202665e+06</td>\n",
       "      <td>1.075561e+06</td>\n",
       "    </tr>\n",
       "    <tr>\n",
       "      <th>7</th>\n",
       "      <td>Oryx</td>\n",
       "      <td>-2.865026e+05</td>\n",
       "      <td>7.467360e+04</td>\n",
       "    </tr>\n",
       "    <tr>\n",
       "      <th>8</th>\n",
       "      <td>PlayNGo</td>\n",
       "      <td>-1.825303e+06</td>\n",
       "      <td>2.695395e+05</td>\n",
       "    </tr>\n",
       "    <tr>\n",
       "      <th>9</th>\n",
       "      <td>PlayTech</td>\n",
       "      <td>-1.869985e+07</td>\n",
       "      <td>1.617226e+07</td>\n",
       "    </tr>\n",
       "    <tr>\n",
       "      <th>10</th>\n",
       "      <td>PragmaticPlay</td>\n",
       "      <td>-2.050663e+06</td>\n",
       "      <td>5.961771e+05</td>\n",
       "    </tr>\n",
       "    <tr>\n",
       "      <th>11</th>\n",
       "      <td>RedTiger</td>\n",
       "      <td>-6.989568e+05</td>\n",
       "      <td>1.751123e+05</td>\n",
       "    </tr>\n",
       "    <tr>\n",
       "      <th>12</th>\n",
       "      <td>Skywind</td>\n",
       "      <td>-8.649408e+05</td>\n",
       "      <td>2.320137e+05</td>\n",
       "    </tr>\n",
       "  </tbody>\n",
       "</table>\n",
       "</div>"
      ],
      "text/plain": [
       "    Casino_Provider           min           max\n",
       "0             Edict -2.146252e+05  8.149306e+04\n",
       "1         Evolution -3.581500e+06  7.160386e+06\n",
       "2   EvolutionDirect -3.643297e+05  2.487654e+04\n",
       "3           Iforium -1.352475e+06  4.935180e+05\n",
       "4       MicroGaming -6.724329e+05  3.383730e+05\n",
       "5            NetEnt -4.197709e+05  2.972727e+05\n",
       "6               Nyx -2.202665e+06  1.075561e+06\n",
       "7              Oryx -2.865026e+05  7.467360e+04\n",
       "8           PlayNGo -1.825303e+06  2.695395e+05\n",
       "9          PlayTech -1.869985e+07  1.617226e+07\n",
       "10    PragmaticPlay -2.050663e+06  5.961771e+05\n",
       "11         RedTiger -6.989568e+05  1.751123e+05\n",
       "12          Skywind -8.649408e+05  2.320137e+05"
      ]
     },
     "execution_count": 10,
     "metadata": {},
     "output_type": "execute_result"
    }
   ],
   "source": [
    "# Calculate max and min hold values per casino game \n",
    "profit_games = games.groupby('Casino_Provider').agg({'Hold': ['min', 'max']})\n",
    "# multi index to single index\n",
    "profit_games = profit_games.Hold\n",
    "profit_games = profit_games.reset_index()\n",
    "profit_games"
   ]
  },
  {
   "cell_type": "code",
   "execution_count": 444,
   "id": "15084e0d",
   "metadata": {},
   "outputs": [
    {
     "data": {
      "image/png": "[encoded data removed]",
      "text/plain": [
       "<Figure size 432x288 with 1 Axes>"
      ]
     },
     "metadata": {
      "needs_background": "light"
     },
     "output_type": "display_data"
    }
   ],
   "source": [
    "# Bar plot\n",
    "profit_games.set_index('Casino_Provider').plot.bar()\n",
    "plt.show()"
   ]
  },
  {
   "cell_type": "markdown",
   "id": "6d42de13",
   "metadata": {},
   "source": [
    "#### Similarly, PlayTech is the casino game with the highest return (in favor of casino)"
   ]
  },
  {
   "cell_type": "markdown",
   "id": "5a1871cc",
   "metadata": {},
   "source": [
    "###  Frequency :average days between actions"
   ]
  },
  {
   "cell_type": "code",
   "execution_count": 458,
   "id": "ebffd804",
   "metadata": {},
   "outputs": [
    {
     "data": {
      "text/html": [
       "<div>\n",
       "<style scoped>\n",
       "    .dataframe tbody tr th:only-of-type {\n",
       "        vertical-align: middle;\n",
       "    }\n",
       "\n",
       "    .dataframe tbody tr th {\n",
       "        vertical-align: top;\n",
       "    }\n",
       "\n",
       "    .dataframe thead th {\n",
       "        text-align: right;\n",
       "    }\n",
       "</style>\n",
       "<table border=\"1\" class=\"dataframe\">\n",
       "  <thead>\n",
       "    <tr style=\"text-align: right;\">\n",
       "      <th></th>\n",
       "      <th>UserID</th>\n",
       "      <th>DEPOSIT_Frequency</th>\n",
       "      <th>WITHDRAW_Frequency</th>\n",
       "    </tr>\n",
       "  </thead>\n",
       "  <tbody>\n",
       "    <tr>\n",
       "      <th>0</th>\n",
       "      <td>1248186</td>\n",
       "      <td>3.7</td>\n",
       "      <td>0.0</td>\n",
       "    </tr>\n",
       "    <tr>\n",
       "      <th>1</th>\n",
       "      <td>1358038</td>\n",
       "      <td>12.0</td>\n",
       "      <td>0.0</td>\n",
       "    </tr>\n",
       "    <tr>\n",
       "      <th>2</th>\n",
       "      <td>1453264</td>\n",
       "      <td>0.0</td>\n",
       "      <td>0.0</td>\n",
       "    </tr>\n",
       "    <tr>\n",
       "      <th>3</th>\n",
       "      <td>1497852</td>\n",
       "      <td>5.3</td>\n",
       "      <td>0.0</td>\n",
       "    </tr>\n",
       "    <tr>\n",
       "      <th>4</th>\n",
       "      <td>1503909</td>\n",
       "      <td>2.2</td>\n",
       "      <td>32.0</td>\n",
       "    </tr>\n",
       "    <tr>\n",
       "      <th>...</th>\n",
       "      <td>...</td>\n",
       "      <td>...</td>\n",
       "      <td>...</td>\n",
       "    </tr>\n",
       "    <tr>\n",
       "      <th>2387</th>\n",
       "      <td>1574047</td>\n",
       "      <td>0.0</td>\n",
       "      <td>0.0</td>\n",
       "    </tr>\n",
       "    <tr>\n",
       "      <th>2388</th>\n",
       "      <td>1574102</td>\n",
       "      <td>0.0</td>\n",
       "      <td>0.0</td>\n",
       "    </tr>\n",
       "    <tr>\n",
       "      <th>2389</th>\n",
       "      <td>1574105</td>\n",
       "      <td>0.0</td>\n",
       "      <td>0.0</td>\n",
       "    </tr>\n",
       "    <tr>\n",
       "      <th>2390</th>\n",
       "      <td>1574162</td>\n",
       "      <td>0.0</td>\n",
       "      <td>0.0</td>\n",
       "    </tr>\n",
       "    <tr>\n",
       "      <th>2391</th>\n",
       "      <td>1574252</td>\n",
       "      <td>0.0</td>\n",
       "      <td>0.0</td>\n",
       "    </tr>\n",
       "  </tbody>\n",
       "</table>\n",
       "<p>2392 rows × 3 columns</p>\n",
       "</div>"
      ],
      "text/plain": [
       "       UserID  DEPOSIT_Frequency  WITHDRAW_Frequency\n",
       "0     1248186                3.7                 0.0\n",
       "1     1358038               12.0                 0.0\n",
       "2     1453264                0.0                 0.0\n",
       "3     1497852                5.3                 0.0\n",
       "4     1503909                2.2                32.0\n",
       "...       ...                ...                 ...\n",
       "2387  1574047                0.0                 0.0\n",
       "2388  1574102                0.0                 0.0\n",
       "2389  1574105                0.0                 0.0\n",
       "2390  1574162                0.0                 0.0\n",
       "2391  1574252                0.0                 0.0\n",
       "\n",
       "[2392 rows x 3 columns]"
      ]
     },
     "execution_count": 458,
     "metadata": {},
     "output_type": "execute_result"
    }
   ],
   "source": [
    "# Get the previous action date \n",
    "wallet['previous_action'] = wallet.groupby(['UserID', 'TypeSysname'])['Created'].shift()\n",
    "# Calculate the days passed between actions\n",
    "wallet['Frequency'] = wallet['Created'] - wallet['previous_action']\n",
    "# Difference in days\n",
    "wallet['Frequency'] = wallet['Frequency'].apply(lambda x: x.days)\n",
    "\n",
    "# Avg days between actions per user and type of action\n",
    "Frequency=wallet.groupby(['UserID', 'TypeSysname']).agg({'Frequency':['mean']})\n",
    "Frequency=Frequency.Frequency\n",
    "Frequency=Frequency.reset_index() \n",
    "Frequency = Frequency.rename({'mean': 'Frequency'}, axis=1) \n",
    "\n",
    "Frequency=Frequency.fillna(0) # when user has made only one single date a action, gets frequency 0\n",
    "Frequency=Frequency.round(1)\n",
    "\n",
    "#Pivot table\n",
    "Frequency_trn = Frequency.pivot_table(index=['UserID'], \n",
    "                                      columns='TypeSysname', \n",
    "                                      values=['Frequency'], aggfunc='first',fill_value=0)\n",
    "Frequency_trn.columns = [f'{b}_{a}' for a, b in Frequency_trn.columns]\n",
    "Frequency_trn = Frequency_trn.reset_index()\n",
    "Frequency_trn"
   ]
  },
  {
   "cell_type": "markdown",
   "id": "1272e8c2",
   "metadata": {},
   "source": [
    "### Recency :days passed since the last action made"
   ]
  },
  {
   "cell_type": "code",
   "execution_count": 459,
   "id": "442b3d21",
   "metadata": {},
   "outputs": [
    {
     "data": {
      "text/html": [
       "<div>\n",
       "<style scoped>\n",
       "    .dataframe tbody tr th:only-of-type {\n",
       "        vertical-align: middle;\n",
       "    }\n",
       "\n",
       "    .dataframe tbody tr th {\n",
       "        vertical-align: top;\n",
       "    }\n",
       "\n",
       "    .dataframe thead th {\n",
       "        text-align: right;\n",
       "    }\n",
       "</style>\n",
       "<table border=\"1\" class=\"dataframe\">\n",
       "  <thead>\n",
       "    <tr style=\"text-align: right;\">\n",
       "      <th></th>\n",
       "      <th>UserID</th>\n",
       "      <th>DEPOSIT_Recency</th>\n",
       "      <th>WITHDRAW_Recency</th>\n",
       "    </tr>\n",
       "  </thead>\n",
       "  <tbody>\n",
       "    <tr>\n",
       "      <th>0</th>\n",
       "      <td>1248186</td>\n",
       "      <td>40</td>\n",
       "      <td>0</td>\n",
       "    </tr>\n",
       "    <tr>\n",
       "      <th>1</th>\n",
       "      <td>1358038</td>\n",
       "      <td>32</td>\n",
       "      <td>0</td>\n",
       "    </tr>\n",
       "    <tr>\n",
       "      <th>2</th>\n",
       "      <td>1453264</td>\n",
       "      <td>52</td>\n",
       "      <td>0</td>\n",
       "    </tr>\n",
       "    <tr>\n",
       "      <th>3</th>\n",
       "      <td>1497852</td>\n",
       "      <td>24</td>\n",
       "      <td>24</td>\n",
       "    </tr>\n",
       "    <tr>\n",
       "      <th>4</th>\n",
       "      <td>1503909</td>\n",
       "      <td>1</td>\n",
       "      <td>12</td>\n",
       "    </tr>\n",
       "    <tr>\n",
       "      <th>...</th>\n",
       "      <td>...</td>\n",
       "      <td>...</td>\n",
       "      <td>...</td>\n",
       "    </tr>\n",
       "    <tr>\n",
       "      <th>2387</th>\n",
       "      <td>1574047</td>\n",
       "      <td>1</td>\n",
       "      <td>0</td>\n",
       "    </tr>\n",
       "    <tr>\n",
       "      <th>2388</th>\n",
       "      <td>1574102</td>\n",
       "      <td>1</td>\n",
       "      <td>0</td>\n",
       "    </tr>\n",
       "    <tr>\n",
       "      <th>2389</th>\n",
       "      <td>1574105</td>\n",
       "      <td>1</td>\n",
       "      <td>0</td>\n",
       "    </tr>\n",
       "    <tr>\n",
       "      <th>2390</th>\n",
       "      <td>1574162</td>\n",
       "      <td>1</td>\n",
       "      <td>0</td>\n",
       "    </tr>\n",
       "    <tr>\n",
       "      <th>2391</th>\n",
       "      <td>1574252</td>\n",
       "      <td>1</td>\n",
       "      <td>0</td>\n",
       "    </tr>\n",
       "  </tbody>\n",
       "</table>\n",
       "<p>2392 rows × 3 columns</p>\n",
       "</div>"
      ],
      "text/plain": [
       "       UserID  DEPOSIT_Recency  WITHDRAW_Recency\n",
       "0     1248186               40                 0\n",
       "1     1358038               32                 0\n",
       "2     1453264               52                 0\n",
       "3     1497852               24                24\n",
       "4     1503909                1                12\n",
       "...       ...              ...               ...\n",
       "2387  1574047                1                 0\n",
       "2388  1574102                1                 0\n",
       "2389  1574105                1                 0\n",
       "2390  1574162                1                 0\n",
       "2391  1574252                1                 0\n",
       "\n",
       "[2392 rows x 3 columns]"
      ]
     },
     "execution_count": 459,
     "metadata": {},
     "output_type": "execute_result"
    }
   ],
   "source": [
    "# Get the last action date of wallet dataset\n",
    "wallet['max_date'] = wallet['Created'].max() + timedelta(days=1)\n",
    "# Calculate days passed between action date and last action date\n",
    "wallet['Recency']= wallet['max_date']-wallet['Created']\n",
    "# Difference in days\n",
    "wallet['Recency'] = wallet['Recency'].apply(lambda x: x.days)\n",
    "\n",
    "# Get the min value (i.e. days since last user's action) per user and type of action\n",
    "Recency = wallet.groupby(['UserID','TypeSysname']).agg({'Recency':['min']})\n",
    "Recency = Recency.Recency\n",
    "Recency = Recency.reset_index() \n",
    "Recency = Recency.rename({'min': 'Recency'}, axis=1) \n",
    "\n",
    "#Pivot table\n",
    "Recency_trn = Recency.pivot_table(index=['UserID'], \n",
    "                                  columns='TypeSysname', \n",
    "                                  values=['Recency'], aggfunc='first',fill_value=0)\n",
    "Recency_trn.columns = [f'{b}_{a}' for a, b in Recency_trn.columns]\n",
    "Recency_trn = Recency_trn.reset_index()\n",
    "Recency_trn"
   ]
  },
  {
   "cell_type": "code",
   "execution_count": 460,
   "id": "844234d1",
   "metadata": {},
   "outputs": [],
   "source": [
    "#Recency.loc[Recency.UserID==1503909]"
   ]
  },
  {
   "cell_type": "markdown",
   "id": "c1a83e6a",
   "metadata": {},
   "source": [
    "### Monetary: Total and average amount of action"
   ]
  },
  {
   "cell_type": "code",
   "execution_count": 461,
   "id": "6499526d",
   "metadata": {},
   "outputs": [],
   "source": [
    "# Calculate total and avg amount per user & action type\n",
    "Avg_amount_type = wallet.groupby(['UserID','TypeSysname']).agg({'Amount':['sum','mean']})\n",
    "Avg_amount_type = Avg_amount_type.Amount\n",
    "Avg_amount_type = Avg_amount_type.reset_index() \n",
    "\n",
    "#Pivot table\n",
    "Avg_amount_type_trn = Avg_amount_type.pivot_table(index=['UserID'], \n",
    "                                              columns='TypeSysname', \n",
    "                                              values=['sum','mean'], aggfunc='first',fill_value=0)\n",
    "Avg_amount_type_trn.columns = [f'{b}_{a}' for a, b in Avg_amount_type_trn.columns]\n",
    "Avg_amount_type_trn = Avg_amount_type_trn.reset_index()\n",
    "#Avg_amount_type_trn"
   ]
  },
  {
   "cell_type": "markdown",
   "id": "3d8d7b31",
   "metadata": {},
   "source": [
    "### Profit or loss per user "
   ]
  },
  {
   "cell_type": "code",
   "execution_count": 462,
   "id": "6368fc60",
   "metadata": {},
   "outputs": [],
   "source": [
    "# Calculate difference between deposit and withdraw amounts\n",
    "Avg_amount_type_trn['Dif']=Avg_amount_type_trn['WITHDRAW_sum']-Avg_amount_type_trn['DEPOSIT_sum']\n",
    "Avg_amount_type_trn['Dif']=Avg_amount_type_trn['Dif'].astype(float)\n",
    "\n",
    "Avg_amount_type_trn.loc[(Avg_amount_type_trn['Dif'] > 0), 'Profit or Loss'] = 'Profit'\n",
    "Avg_amount_type_trn.loc[(Avg_amount_type_trn['Dif'] < 0), 'Profit or Loss'] = 'Loss'\n",
    "Avg_amount_type_trn=Avg_amount_type_trn[['UserID','DEPOSIT_mean','WITHDRAW_mean','DEPOSIT_sum','WITHDRAW_sum','Profit or Loss']]\n"
   ]
  },
  {
   "cell_type": "code",
   "execution_count": 133,
   "id": "0a5fc1e6",
   "metadata": {},
   "outputs": [],
   "source": [
    "#games.loc[games.UserID==1503909]"
   ]
  },
  {
   "cell_type": "markdown",
   "id": "974dadfb",
   "metadata": {},
   "source": [
    "### Number of transactions per casino game"
   ]
  },
  {
   "cell_type": "code",
   "execution_count": 463,
   "id": "b65d7104",
   "metadata": {},
   "outputs": [],
   "source": [
    "# Count how many times a user has played each casino game\n",
    "games_user_count = games.groupby(['UserID','Casino_Provider']).agg({'UserID':['count']})\n",
    "games_user_count = games_user_count.UserID\n",
    "games_user_count = games_user_count.reset_index() \n",
    "\n",
    "#Pivot table\n",
    "games_user_count_trn = games_user_count.pivot_table(index=['UserID'], \n",
    "                                              columns='Casino_Provider', \n",
    "                                              values=['count'], aggfunc='first',fill_value=0)\n",
    "games_user_count_trn.columns = [f'{b}_{a}' for a, b in games_user_count_trn.columns]\n",
    "games_user_count_trn = games_user_count_trn.reset_index()\n",
    "#games_user_count_trn"
   ]
  },
  {
   "cell_type": "code",
   "execution_count": 72,
   "id": "208bf581",
   "metadata": {},
   "outputs": [
    {
     "data": {
      "text/html": [
       "<div>\n",
       "<style scoped>\n",
       "    .dataframe tbody tr th:only-of-type {\n",
       "        vertical-align: middle;\n",
       "    }\n",
       "\n",
       "    .dataframe tbody tr th {\n",
       "        vertical-align: top;\n",
       "    }\n",
       "\n",
       "    .dataframe thead th {\n",
       "        text-align: right;\n",
       "    }\n",
       "</style>\n",
       "<table border=\"1\" class=\"dataframe\">\n",
       "  <thead>\n",
       "    <tr style=\"text-align: right;\">\n",
       "      <th></th>\n",
       "      <th>UserID</th>\n",
       "      <th>Casino_Provider</th>\n",
       "      <th>mean</th>\n",
       "    </tr>\n",
       "  </thead>\n",
       "  <tbody>\n",
       "    <tr>\n",
       "      <th>755705</th>\n",
       "      <td>1503909</td>\n",
       "      <td>Iforium</td>\n",
       "      <td>1108.342308</td>\n",
       "    </tr>\n",
       "    <tr>\n",
       "      <th>755706</th>\n",
       "      <td>1503909</td>\n",
       "      <td>NetEnt</td>\n",
       "      <td>284.690000</td>\n",
       "    </tr>\n",
       "    <tr>\n",
       "      <th>755707</th>\n",
       "      <td>1503909</td>\n",
       "      <td>Nyx</td>\n",
       "      <td>-156.065000</td>\n",
       "    </tr>\n",
       "    <tr>\n",
       "      <th>755708</th>\n",
       "      <td>1503909</td>\n",
       "      <td>PlayNGo</td>\n",
       "      <td>-17.150000</td>\n",
       "    </tr>\n",
       "    <tr>\n",
       "      <th>755709</th>\n",
       "      <td>1503909</td>\n",
       "      <td>PlayTech</td>\n",
       "      <td>222.950000</td>\n",
       "    </tr>\n",
       "    <tr>\n",
       "      <th>755710</th>\n",
       "      <td>1503909</td>\n",
       "      <td>PragmaticPlay</td>\n",
       "      <td>20.160000</td>\n",
       "    </tr>\n",
       "    <tr>\n",
       "      <th>755711</th>\n",
       "      <td>1503909</td>\n",
       "      <td>Skywind</td>\n",
       "      <td>1035.533333</td>\n",
       "    </tr>\n",
       "  </tbody>\n",
       "</table>\n",
       "</div>"
      ],
      "text/plain": [
       "         UserID Casino_Provider         mean\n",
       "755705  1503909         Iforium  1108.342308\n",
       "755706  1503909          NetEnt   284.690000\n",
       "755707  1503909             Nyx  -156.065000\n",
       "755708  1503909         PlayNGo   -17.150000\n",
       "755709  1503909        PlayTech   222.950000\n",
       "755710  1503909   PragmaticPlay    20.160000\n",
       "755711  1503909         Skywind  1035.533333"
      ]
     },
     "execution_count": 72,
     "metadata": {},
     "output_type": "execute_result"
    }
   ],
   "source": [
    "# Average hold amount per user & casino game\n",
    "games_hold_avg = games.groupby(['UserID','Casino_Provider']).agg({'Hold':['mean']})\n",
    "games_hold_avg = games_hold_avg.Hold\n",
    "games_hold_avg = games_hold_avg.reset_index()\n",
    "games_hold_avg.loc[games_hold_avg.UserID==1503909]"
   ]
  },
  {
   "cell_type": "markdown",
   "id": "f210ab3c",
   "metadata": {},
   "source": [
    "### Frequency of transactions per casino game"
   ]
  },
  {
   "cell_type": "code",
   "execution_count": 464,
   "id": "86fea843",
   "metadata": {},
   "outputs": [
    {
     "data": {
      "text/html": [
       "<div>\n",
       "<style scoped>\n",
       "    .dataframe tbody tr th:only-of-type {\n",
       "        vertical-align: middle;\n",
       "    }\n",
       "\n",
       "    .dataframe tbody tr th {\n",
       "        vertical-align: top;\n",
       "    }\n",
       "\n",
       "    .dataframe thead th {\n",
       "        text-align: right;\n",
       "    }\n",
       "</style>\n",
       "<table border=\"1\" class=\"dataframe\">\n",
       "  <thead>\n",
       "    <tr style=\"text-align: right;\">\n",
       "      <th></th>\n",
       "      <th>UserID</th>\n",
       "      <th>Edict_Frequency</th>\n",
       "      <th>Evolution_Frequency</th>\n",
       "      <th>EvolutionDirect_Frequency</th>\n",
       "      <th>Iforium_Frequency</th>\n",
       "      <th>MicroGaming_Frequency</th>\n",
       "      <th>NetEnt_Frequency</th>\n",
       "      <th>Nyx_Frequency</th>\n",
       "      <th>Oryx_Frequency</th>\n",
       "      <th>PlayNGo_Frequency</th>\n",
       "      <th>PlayTech_Frequency</th>\n",
       "      <th>PragmaticPlay_Frequency</th>\n",
       "      <th>RedTiger_Frequency</th>\n",
       "      <th>Skywind_Frequency</th>\n",
       "    </tr>\n",
       "  </thead>\n",
       "  <tbody>\n",
       "    <tr>\n",
       "      <th>0</th>\n",
       "      <td>99</td>\n",
       "      <td>0.0</td>\n",
       "      <td>0.0</td>\n",
       "      <td>0.0</td>\n",
       "      <td>0.0</td>\n",
       "      <td>0.0</td>\n",
       "      <td>0.0</td>\n",
       "      <td>0.0</td>\n",
       "      <td>0.0</td>\n",
       "      <td>0.0</td>\n",
       "      <td>0.0</td>\n",
       "      <td>0.0</td>\n",
       "      <td>0.0</td>\n",
       "      <td>0.0</td>\n",
       "    </tr>\n",
       "    <tr>\n",
       "      <th>1</th>\n",
       "      <td>104</td>\n",
       "      <td>0.0</td>\n",
       "      <td>0.0</td>\n",
       "      <td>0.0</td>\n",
       "      <td>0.0</td>\n",
       "      <td>0.0</td>\n",
       "      <td>14.0</td>\n",
       "      <td>0.0</td>\n",
       "      <td>0.0</td>\n",
       "      <td>0.0</td>\n",
       "      <td>0.0</td>\n",
       "      <td>0.0</td>\n",
       "      <td>0.0</td>\n",
       "      <td>0.0</td>\n",
       "    </tr>\n",
       "    <tr>\n",
       "      <th>2</th>\n",
       "      <td>105</td>\n",
       "      <td>0.0</td>\n",
       "      <td>0.0</td>\n",
       "      <td>0.0</td>\n",
       "      <td>0.0</td>\n",
       "      <td>0.0</td>\n",
       "      <td>17.0</td>\n",
       "      <td>0.0</td>\n",
       "      <td>0.0</td>\n",
       "      <td>0.0</td>\n",
       "      <td>0.0</td>\n",
       "      <td>0.0</td>\n",
       "      <td>0.0</td>\n",
       "      <td>0.0</td>\n",
       "    </tr>\n",
       "    <tr>\n",
       "      <th>3</th>\n",
       "      <td>582983</td>\n",
       "      <td>0.0</td>\n",
       "      <td>0.0</td>\n",
       "      <td>0.0</td>\n",
       "      <td>0.0</td>\n",
       "      <td>0.0</td>\n",
       "      <td>0.0</td>\n",
       "      <td>0.0</td>\n",
       "      <td>0.0</td>\n",
       "      <td>0.0</td>\n",
       "      <td>2.0</td>\n",
       "      <td>0.0</td>\n",
       "      <td>0.0</td>\n",
       "      <td>0.0</td>\n",
       "    </tr>\n",
       "    <tr>\n",
       "      <th>4</th>\n",
       "      <td>583003</td>\n",
       "      <td>0.0</td>\n",
       "      <td>0.0</td>\n",
       "      <td>0.0</td>\n",
       "      <td>0.0</td>\n",
       "      <td>0.0</td>\n",
       "      <td>9.7</td>\n",
       "      <td>0.0</td>\n",
       "      <td>0.0</td>\n",
       "      <td>4.3</td>\n",
       "      <td>3.0</td>\n",
       "      <td>4.2</td>\n",
       "      <td>10.5</td>\n",
       "      <td>0.0</td>\n",
       "    </tr>\n",
       "    <tr>\n",
       "      <th>...</th>\n",
       "      <td>...</td>\n",
       "      <td>...</td>\n",
       "      <td>...</td>\n",
       "      <td>...</td>\n",
       "      <td>...</td>\n",
       "      <td>...</td>\n",
       "      <td>...</td>\n",
       "      <td>...</td>\n",
       "      <td>...</td>\n",
       "      <td>...</td>\n",
       "      <td>...</td>\n",
       "      <td>...</td>\n",
       "      <td>...</td>\n",
       "      <td>...</td>\n",
       "    </tr>\n",
       "    <tr>\n",
       "      <th>153345</th>\n",
       "      <td>1575178</td>\n",
       "      <td>0.0</td>\n",
       "      <td>0.0</td>\n",
       "      <td>0.0</td>\n",
       "      <td>0.0</td>\n",
       "      <td>0.0</td>\n",
       "      <td>0.0</td>\n",
       "      <td>0.0</td>\n",
       "      <td>0.0</td>\n",
       "      <td>0.0</td>\n",
       "      <td>0.0</td>\n",
       "      <td>0.0</td>\n",
       "      <td>0.0</td>\n",
       "      <td>0.0</td>\n",
       "    </tr>\n",
       "    <tr>\n",
       "      <th>153346</th>\n",
       "      <td>1575184</td>\n",
       "      <td>0.0</td>\n",
       "      <td>0.0</td>\n",
       "      <td>0.0</td>\n",
       "      <td>0.0</td>\n",
       "      <td>0.0</td>\n",
       "      <td>0.0</td>\n",
       "      <td>0.0</td>\n",
       "      <td>0.0</td>\n",
       "      <td>0.0</td>\n",
       "      <td>0.0</td>\n",
       "      <td>0.0</td>\n",
       "      <td>0.0</td>\n",
       "      <td>0.0</td>\n",
       "    </tr>\n",
       "    <tr>\n",
       "      <th>153347</th>\n",
       "      <td>1575186</td>\n",
       "      <td>0.0</td>\n",
       "      <td>0.0</td>\n",
       "      <td>0.0</td>\n",
       "      <td>0.0</td>\n",
       "      <td>0.0</td>\n",
       "      <td>0.0</td>\n",
       "      <td>0.0</td>\n",
       "      <td>0.0</td>\n",
       "      <td>0.0</td>\n",
       "      <td>0.0</td>\n",
       "      <td>0.0</td>\n",
       "      <td>0.0</td>\n",
       "      <td>0.0</td>\n",
       "    </tr>\n",
       "    <tr>\n",
       "      <th>153348</th>\n",
       "      <td>1575189</td>\n",
       "      <td>0.0</td>\n",
       "      <td>0.0</td>\n",
       "      <td>0.0</td>\n",
       "      <td>0.0</td>\n",
       "      <td>0.0</td>\n",
       "      <td>0.0</td>\n",
       "      <td>0.0</td>\n",
       "      <td>0.0</td>\n",
       "      <td>0.0</td>\n",
       "      <td>0.0</td>\n",
       "      <td>0.0</td>\n",
       "      <td>0.0</td>\n",
       "      <td>0.0</td>\n",
       "    </tr>\n",
       "    <tr>\n",
       "      <th>153349</th>\n",
       "      <td>1575206</td>\n",
       "      <td>0.0</td>\n",
       "      <td>0.0</td>\n",
       "      <td>0.0</td>\n",
       "      <td>0.0</td>\n",
       "      <td>0.0</td>\n",
       "      <td>0.0</td>\n",
       "      <td>0.0</td>\n",
       "      <td>0.0</td>\n",
       "      <td>0.0</td>\n",
       "      <td>0.0</td>\n",
       "      <td>0.0</td>\n",
       "      <td>0.0</td>\n",
       "      <td>0.0</td>\n",
       "    </tr>\n",
       "  </tbody>\n",
       "</table>\n",
       "<p>153350 rows × 14 columns</p>\n",
       "</div>"
      ],
      "text/plain": [
       "         UserID  Edict_Frequency  Evolution_Frequency  \\\n",
       "0            99              0.0                  0.0   \n",
       "1           104              0.0                  0.0   \n",
       "2           105              0.0                  0.0   \n",
       "3        582983              0.0                  0.0   \n",
       "4        583003              0.0                  0.0   \n",
       "...         ...              ...                  ...   \n",
       "153345  1575178              0.0                  0.0   \n",
       "153346  1575184              0.0                  0.0   \n",
       "153347  1575186              0.0                  0.0   \n",
       "153348  1575189              0.0                  0.0   \n",
       "153349  1575206              0.0                  0.0   \n",
       "\n",
       "        EvolutionDirect_Frequency  Iforium_Frequency  MicroGaming_Frequency  \\\n",
       "0                             0.0                0.0                    0.0   \n",
       "1                             0.0                0.0                    0.0   \n",
       "2                             0.0                0.0                    0.0   \n",
       "3                             0.0                0.0                    0.0   \n",
       "4                             0.0                0.0                    0.0   \n",
       "...                           ...                ...                    ...   \n",
       "153345                        0.0                0.0                    0.0   \n",
       "153346                        0.0                0.0                    0.0   \n",
       "153347                        0.0                0.0                    0.0   \n",
       "153348                        0.0                0.0                    0.0   \n",
       "153349                        0.0                0.0                    0.0   \n",
       "\n",
       "        NetEnt_Frequency  Nyx_Frequency  Oryx_Frequency  PlayNGo_Frequency  \\\n",
       "0                    0.0            0.0             0.0                0.0   \n",
       "1                   14.0            0.0             0.0                0.0   \n",
       "2                   17.0            0.0             0.0                0.0   \n",
       "3                    0.0            0.0             0.0                0.0   \n",
       "4                    9.7            0.0             0.0                4.3   \n",
       "...                  ...            ...             ...                ...   \n",
       "153345               0.0            0.0             0.0                0.0   \n",
       "153346               0.0            0.0             0.0                0.0   \n",
       "153347               0.0            0.0             0.0                0.0   \n",
       "153348               0.0            0.0             0.0                0.0   \n",
       "153349               0.0            0.0             0.0                0.0   \n",
       "\n",
       "        PlayTech_Frequency  PragmaticPlay_Frequency  RedTiger_Frequency  \\\n",
       "0                      0.0                      0.0                 0.0   \n",
       "1                      0.0                      0.0                 0.0   \n",
       "2                      0.0                      0.0                 0.0   \n",
       "3                      2.0                      0.0                 0.0   \n",
       "4                      3.0                      4.2                10.5   \n",
       "...                    ...                      ...                 ...   \n",
       "153345                 0.0                      0.0                 0.0   \n",
       "153346                 0.0                      0.0                 0.0   \n",
       "153347                 0.0                      0.0                 0.0   \n",
       "153348                 0.0                      0.0                 0.0   \n",
       "153349                 0.0                      0.0                 0.0   \n",
       "\n",
       "        Skywind_Frequency  \n",
       "0                     0.0  \n",
       "1                     0.0  \n",
       "2                     0.0  \n",
       "3                     0.0  \n",
       "4                     0.0  \n",
       "...                   ...  \n",
       "153345                0.0  \n",
       "153346                0.0  \n",
       "153347                0.0  \n",
       "153348                0.0  \n",
       "153349                0.0  \n",
       "\n",
       "[153350 rows x 14 columns]"
      ]
     },
     "execution_count": 464,
     "metadata": {},
     "output_type": "execute_result"
    }
   ],
   "source": [
    "# Get the previous transaction date \n",
    "games['previous_transaction'] = games.groupby(['UserID', 'Casino_Provider'])['Date'].shift()\n",
    "# Calculate the days passed between transaction\n",
    "games['Frequency'] = games['Date'] - games['previous_transaction']\n",
    "# Difference in days\n",
    "games['Frequency'] = games['Frequency'].apply(lambda x: x.days)\n",
    "\n",
    "# Avg days between transactions per user and casino game\n",
    "Frequency_games=games.groupby(['UserID', 'Casino_Provider']).agg({'Frequency':['mean']})\n",
    "Frequency_games=Frequency_games.Frequency\n",
    "Frequency_games=Frequency_games.reset_index() \n",
    "Frequency_games = Frequency_games.rename({'mean': 'Frequency'}, axis=1) \n",
    "\n",
    "Frequency_games=Frequency_games.fillna(0) # when user has made only one transaction on a casino game, gets frequency 0\n",
    "Frequency_games=Frequency_games.round(1)\n",
    "\n",
    "#Pivot table\n",
    "Frequency_games_trn = Frequency_games.pivot_table(index=['UserID'], \n",
    "                                                  columns='Casino_Provider', \n",
    "                                                  values=['Frequency'], aggfunc='first',fill_value=0)\n",
    "Frequency_games_trn.columns = [f'{b}_{a}' for a, b in Frequency_games_trn.columns]\n",
    "Frequency_games_trn = Frequency_games_trn.reset_index()\n",
    "Frequency_games_trn"
   ]
  },
  {
   "cell_type": "code",
   "execution_count": 96,
   "id": "a8427409",
   "metadata": {},
   "outputs": [],
   "source": [
    "#games.loc[games.UserID==1575206]"
   ]
  },
  {
   "cell_type": "markdown",
   "id": "b6b3a6c0",
   "metadata": {},
   "source": [
    "### Average JackpotWin per casino game"
   ]
  },
  {
   "cell_type": "code",
   "execution_count": 465,
   "id": "5e227c38",
   "metadata": {},
   "outputs": [
    {
     "data": {
      "text/html": [
       "<div>\n",
       "<style scoped>\n",
       "    .dataframe tbody tr th:only-of-type {\n",
       "        vertical-align: middle;\n",
       "    }\n",
       "\n",
       "    .dataframe tbody tr th {\n",
       "        vertical-align: top;\n",
       "    }\n",
       "\n",
       "    .dataframe thead th {\n",
       "        text-align: right;\n",
       "    }\n",
       "</style>\n",
       "<table border=\"1\" class=\"dataframe\">\n",
       "  <thead>\n",
       "    <tr style=\"text-align: right;\">\n",
       "      <th></th>\n",
       "      <th>UserID</th>\n",
       "      <th>Edict_JackpotWin_avg</th>\n",
       "      <th>Evolution_JackpotWin_avg</th>\n",
       "      <th>EvolutionDirect_JackpotWin_avg</th>\n",
       "      <th>Iforium_JackpotWin_avg</th>\n",
       "      <th>MicroGaming_JackpotWin_avg</th>\n",
       "      <th>NetEnt_JackpotWin_avg</th>\n",
       "      <th>Nyx_JackpotWin_avg</th>\n",
       "      <th>Oryx_JackpotWin_avg</th>\n",
       "      <th>PlayNGo_JackpotWin_avg</th>\n",
       "      <th>PlayTech_JackpotWin_avg</th>\n",
       "      <th>PragmaticPlay_JackpotWin_avg</th>\n",
       "      <th>RedTiger_JackpotWin_avg</th>\n",
       "      <th>Skywind_JackpotWin_avg</th>\n",
       "    </tr>\n",
       "  </thead>\n",
       "  <tbody>\n",
       "    <tr>\n",
       "      <th>0</th>\n",
       "      <td>99</td>\n",
       "      <td>0</td>\n",
       "      <td>0</td>\n",
       "      <td>0</td>\n",
       "      <td>0</td>\n",
       "      <td>0.0</td>\n",
       "      <td>0.0</td>\n",
       "      <td>0.0</td>\n",
       "      <td>0</td>\n",
       "      <td>0.0</td>\n",
       "      <td>0.0</td>\n",
       "      <td>0</td>\n",
       "      <td>0</td>\n",
       "      <td>0.0</td>\n",
       "    </tr>\n",
       "    <tr>\n",
       "      <th>1</th>\n",
       "      <td>104</td>\n",
       "      <td>0</td>\n",
       "      <td>0</td>\n",
       "      <td>0</td>\n",
       "      <td>0</td>\n",
       "      <td>0.0</td>\n",
       "      <td>0.0</td>\n",
       "      <td>0.0</td>\n",
       "      <td>0</td>\n",
       "      <td>0.0</td>\n",
       "      <td>0.0</td>\n",
       "      <td>0</td>\n",
       "      <td>0</td>\n",
       "      <td>0.0</td>\n",
       "    </tr>\n",
       "    <tr>\n",
       "      <th>2</th>\n",
       "      <td>105</td>\n",
       "      <td>0</td>\n",
       "      <td>0</td>\n",
       "      <td>0</td>\n",
       "      <td>0</td>\n",
       "      <td>0.0</td>\n",
       "      <td>0.0</td>\n",
       "      <td>0.0</td>\n",
       "      <td>0</td>\n",
       "      <td>0.0</td>\n",
       "      <td>0.0</td>\n",
       "      <td>0</td>\n",
       "      <td>0</td>\n",
       "      <td>0.0</td>\n",
       "    </tr>\n",
       "    <tr>\n",
       "      <th>3</th>\n",
       "      <td>582983</td>\n",
       "      <td>0</td>\n",
       "      <td>0</td>\n",
       "      <td>0</td>\n",
       "      <td>0</td>\n",
       "      <td>0.0</td>\n",
       "      <td>0.0</td>\n",
       "      <td>0.0</td>\n",
       "      <td>0</td>\n",
       "      <td>0.0</td>\n",
       "      <td>0.0</td>\n",
       "      <td>0</td>\n",
       "      <td>0</td>\n",
       "      <td>0.0</td>\n",
       "    </tr>\n",
       "    <tr>\n",
       "      <th>4</th>\n",
       "      <td>583003</td>\n",
       "      <td>0</td>\n",
       "      <td>0</td>\n",
       "      <td>0</td>\n",
       "      <td>0</td>\n",
       "      <td>0.0</td>\n",
       "      <td>0.0</td>\n",
       "      <td>0.0</td>\n",
       "      <td>0</td>\n",
       "      <td>0.0</td>\n",
       "      <td>0.0</td>\n",
       "      <td>0</td>\n",
       "      <td>0</td>\n",
       "      <td>0.0</td>\n",
       "    </tr>\n",
       "    <tr>\n",
       "      <th>...</th>\n",
       "      <td>...</td>\n",
       "      <td>...</td>\n",
       "      <td>...</td>\n",
       "      <td>...</td>\n",
       "      <td>...</td>\n",
       "      <td>...</td>\n",
       "      <td>...</td>\n",
       "      <td>...</td>\n",
       "      <td>...</td>\n",
       "      <td>...</td>\n",
       "      <td>...</td>\n",
       "      <td>...</td>\n",
       "      <td>...</td>\n",
       "      <td>...</td>\n",
       "    </tr>\n",
       "    <tr>\n",
       "      <th>153345</th>\n",
       "      <td>1575178</td>\n",
       "      <td>0</td>\n",
       "      <td>0</td>\n",
       "      <td>0</td>\n",
       "      <td>0</td>\n",
       "      <td>0.0</td>\n",
       "      <td>0.0</td>\n",
       "      <td>0.0</td>\n",
       "      <td>0</td>\n",
       "      <td>0.0</td>\n",
       "      <td>0.0</td>\n",
       "      <td>0</td>\n",
       "      <td>0</td>\n",
       "      <td>0.0</td>\n",
       "    </tr>\n",
       "    <tr>\n",
       "      <th>153346</th>\n",
       "      <td>1575184</td>\n",
       "      <td>0</td>\n",
       "      <td>0</td>\n",
       "      <td>0</td>\n",
       "      <td>0</td>\n",
       "      <td>0.0</td>\n",
       "      <td>0.0</td>\n",
       "      <td>0.0</td>\n",
       "      <td>0</td>\n",
       "      <td>0.0</td>\n",
       "      <td>0.0</td>\n",
       "      <td>0</td>\n",
       "      <td>0</td>\n",
       "      <td>0.0</td>\n",
       "    </tr>\n",
       "    <tr>\n",
       "      <th>153347</th>\n",
       "      <td>1575186</td>\n",
       "      <td>0</td>\n",
       "      <td>0</td>\n",
       "      <td>0</td>\n",
       "      <td>0</td>\n",
       "      <td>0.0</td>\n",
       "      <td>0.0</td>\n",
       "      <td>0.0</td>\n",
       "      <td>0</td>\n",
       "      <td>0.0</td>\n",
       "      <td>0.0</td>\n",
       "      <td>0</td>\n",
       "      <td>0</td>\n",
       "      <td>0.0</td>\n",
       "    </tr>\n",
       "    <tr>\n",
       "      <th>153348</th>\n",
       "      <td>1575189</td>\n",
       "      <td>0</td>\n",
       "      <td>0</td>\n",
       "      <td>0</td>\n",
       "      <td>0</td>\n",
       "      <td>0.0</td>\n",
       "      <td>0.0</td>\n",
       "      <td>0.0</td>\n",
       "      <td>0</td>\n",
       "      <td>0.0</td>\n",
       "      <td>0.0</td>\n",
       "      <td>0</td>\n",
       "      <td>0</td>\n",
       "      <td>0.0</td>\n",
       "    </tr>\n",
       "    <tr>\n",
       "      <th>153349</th>\n",
       "      <td>1575206</td>\n",
       "      <td>0</td>\n",
       "      <td>0</td>\n",
       "      <td>0</td>\n",
       "      <td>0</td>\n",
       "      <td>0.0</td>\n",
       "      <td>0.0</td>\n",
       "      <td>0.0</td>\n",
       "      <td>0</td>\n",
       "      <td>0.0</td>\n",
       "      <td>0.0</td>\n",
       "      <td>0</td>\n",
       "      <td>0</td>\n",
       "      <td>0.0</td>\n",
       "    </tr>\n",
       "  </tbody>\n",
       "</table>\n",
       "<p>153350 rows × 14 columns</p>\n",
       "</div>"
      ],
      "text/plain": [
       "         UserID  Edict_JackpotWin_avg  Evolution_JackpotWin_avg  \\\n",
       "0            99                     0                         0   \n",
       "1           104                     0                         0   \n",
       "2           105                     0                         0   \n",
       "3        582983                     0                         0   \n",
       "4        583003                     0                         0   \n",
       "...         ...                   ...                       ...   \n",
       "153345  1575178                     0                         0   \n",
       "153346  1575184                     0                         0   \n",
       "153347  1575186                     0                         0   \n",
       "153348  1575189                     0                         0   \n",
       "153349  1575206                     0                         0   \n",
       "\n",
       "        EvolutionDirect_JackpotWin_avg  Iforium_JackpotWin_avg  \\\n",
       "0                                    0                       0   \n",
       "1                                    0                       0   \n",
       "2                                    0                       0   \n",
       "3                                    0                       0   \n",
       "4                                    0                       0   \n",
       "...                                ...                     ...   \n",
       "153345                               0                       0   \n",
       "153346                               0                       0   \n",
       "153347                               0                       0   \n",
       "153348                               0                       0   \n",
       "153349                               0                       0   \n",
       "\n",
       "        MicroGaming_JackpotWin_avg  NetEnt_JackpotWin_avg  Nyx_JackpotWin_avg  \\\n",
       "0                              0.0                    0.0                 0.0   \n",
       "1                              0.0                    0.0                 0.0   \n",
       "2                              0.0                    0.0                 0.0   \n",
       "3                              0.0                    0.0                 0.0   \n",
       "4                              0.0                    0.0                 0.0   \n",
       "...                            ...                    ...                 ...   \n",
       "153345                         0.0                    0.0                 0.0   \n",
       "153346                         0.0                    0.0                 0.0   \n",
       "153347                         0.0                    0.0                 0.0   \n",
       "153348                         0.0                    0.0                 0.0   \n",
       "153349                         0.0                    0.0                 0.0   \n",
       "\n",
       "        Oryx_JackpotWin_avg  PlayNGo_JackpotWin_avg  PlayTech_JackpotWin_avg  \\\n",
       "0                         0                     0.0                      0.0   \n",
       "1                         0                     0.0                      0.0   \n",
       "2                         0                     0.0                      0.0   \n",
       "3                         0                     0.0                      0.0   \n",
       "4                         0                     0.0                      0.0   \n",
       "...                     ...                     ...                      ...   \n",
       "153345                    0                     0.0                      0.0   \n",
       "153346                    0                     0.0                      0.0   \n",
       "153347                    0                     0.0                      0.0   \n",
       "153348                    0                     0.0                      0.0   \n",
       "153349                    0                     0.0                      0.0   \n",
       "\n",
       "        PragmaticPlay_JackpotWin_avg  RedTiger_JackpotWin_avg  \\\n",
       "0                                  0                        0   \n",
       "1                                  0                        0   \n",
       "2                                  0                        0   \n",
       "3                                  0                        0   \n",
       "4                                  0                        0   \n",
       "...                              ...                      ...   \n",
       "153345                             0                        0   \n",
       "153346                             0                        0   \n",
       "153347                             0                        0   \n",
       "153348                             0                        0   \n",
       "153349                             0                        0   \n",
       "\n",
       "        Skywind_JackpotWin_avg  \n",
       "0                          0.0  \n",
       "1                          0.0  \n",
       "2                          0.0  \n",
       "3                          0.0  \n",
       "4                          0.0  \n",
       "...                        ...  \n",
       "153345                     0.0  \n",
       "153346                     0.0  \n",
       "153347                     0.0  \n",
       "153348                     0.0  \n",
       "153349                     0.0  \n",
       "\n",
       "[153350 rows x 14 columns]"
      ]
     },
     "execution_count": 465,
     "metadata": {},
     "output_type": "execute_result"
    }
   ],
   "source": [
    "jackpot = games.groupby(['UserID','Casino_Provider']).agg({'IsJackpotWinID':['mean']})\n",
    "jackpot=jackpot.IsJackpotWinID\n",
    "jackpot=jackpot.reset_index() \n",
    "jackpot = jackpot.rename({'mean': 'JackpotWin_avg'}, axis=1) \n",
    "\n",
    "#Pivot table\n",
    "jackpot_trn = jackpot.pivot_table(index=['UserID'], \n",
    "                                  columns='Casino_Provider', \n",
    "                                  values=['JackpotWin_avg'], aggfunc='first',fill_value=0)\n",
    "jackpot_trn.columns = [f'{b}_{a}' for a, b in jackpot_trn.columns]\n",
    "jackpot_trn = jackpot_trn.reset_index()\n",
    "jackpot_trn"
   ]
  },
  {
   "cell_type": "markdown",
   "id": "4389c771",
   "metadata": {},
   "source": [
    "### Average FreeSpin per casino game"
   ]
  },
  {
   "cell_type": "code",
   "execution_count": 466,
   "id": "68989185",
   "metadata": {},
   "outputs": [
    {
     "data": {
      "text/html": [
       "<div>\n",
       "<style scoped>\n",
       "    .dataframe tbody tr th:only-of-type {\n",
       "        vertical-align: middle;\n",
       "    }\n",
       "\n",
       "    .dataframe tbody tr th {\n",
       "        vertical-align: top;\n",
       "    }\n",
       "\n",
       "    .dataframe thead th {\n",
       "        text-align: right;\n",
       "    }\n",
       "</style>\n",
       "<table border=\"1\" class=\"dataframe\">\n",
       "  <thead>\n",
       "    <tr style=\"text-align: right;\">\n",
       "      <th></th>\n",
       "      <th>UserID</th>\n",
       "      <th>Edict_IsFreeSpinID_avg</th>\n",
       "      <th>Evolution_IsFreeSpinID_avg</th>\n",
       "      <th>EvolutionDirect_IsFreeSpinID_avg</th>\n",
       "      <th>Iforium_IsFreeSpinID_avg</th>\n",
       "      <th>MicroGaming_IsFreeSpinID_avg</th>\n",
       "      <th>NetEnt_IsFreeSpinID_avg</th>\n",
       "      <th>Nyx_IsFreeSpinID_avg</th>\n",
       "      <th>Oryx_IsFreeSpinID_avg</th>\n",
       "      <th>PlayNGo_IsFreeSpinID_avg</th>\n",
       "      <th>PlayTech_IsFreeSpinID_avg</th>\n",
       "      <th>PragmaticPlay_IsFreeSpinID_avg</th>\n",
       "      <th>RedTiger_IsFreeSpinID_avg</th>\n",
       "      <th>Skywind_IsFreeSpinID_avg</th>\n",
       "    </tr>\n",
       "  </thead>\n",
       "  <tbody>\n",
       "    <tr>\n",
       "      <th>0</th>\n",
       "      <td>99</td>\n",
       "      <td>0</td>\n",
       "      <td>0</td>\n",
       "      <td>0.0</td>\n",
       "      <td>0.0</td>\n",
       "      <td>0</td>\n",
       "      <td>0.000000</td>\n",
       "      <td>0.0</td>\n",
       "      <td>0</td>\n",
       "      <td>0.000000</td>\n",
       "      <td>0.00</td>\n",
       "      <td>0.000000</td>\n",
       "      <td>0.0</td>\n",
       "      <td>0.0</td>\n",
       "    </tr>\n",
       "    <tr>\n",
       "      <th>1</th>\n",
       "      <td>104</td>\n",
       "      <td>0</td>\n",
       "      <td>0</td>\n",
       "      <td>0.0</td>\n",
       "      <td>0.0</td>\n",
       "      <td>0</td>\n",
       "      <td>0.000000</td>\n",
       "      <td>0.0</td>\n",
       "      <td>0</td>\n",
       "      <td>0.000000</td>\n",
       "      <td>0.00</td>\n",
       "      <td>0.000000</td>\n",
       "      <td>0.0</td>\n",
       "      <td>0.0</td>\n",
       "    </tr>\n",
       "    <tr>\n",
       "      <th>2</th>\n",
       "      <td>105</td>\n",
       "      <td>0</td>\n",
       "      <td>0</td>\n",
       "      <td>0.0</td>\n",
       "      <td>0.0</td>\n",
       "      <td>0</td>\n",
       "      <td>0.000000</td>\n",
       "      <td>0.0</td>\n",
       "      <td>0</td>\n",
       "      <td>0.000000</td>\n",
       "      <td>0.00</td>\n",
       "      <td>0.000000</td>\n",
       "      <td>0.0</td>\n",
       "      <td>0.0</td>\n",
       "    </tr>\n",
       "    <tr>\n",
       "      <th>3</th>\n",
       "      <td>582983</td>\n",
       "      <td>0</td>\n",
       "      <td>0</td>\n",
       "      <td>0.0</td>\n",
       "      <td>0.0</td>\n",
       "      <td>0</td>\n",
       "      <td>1.000000</td>\n",
       "      <td>0.0</td>\n",
       "      <td>0</td>\n",
       "      <td>0.000000</td>\n",
       "      <td>0.50</td>\n",
       "      <td>1.000000</td>\n",
       "      <td>1.0</td>\n",
       "      <td>0.0</td>\n",
       "    </tr>\n",
       "    <tr>\n",
       "      <th>4</th>\n",
       "      <td>583003</td>\n",
       "      <td>0</td>\n",
       "      <td>0</td>\n",
       "      <td>0.0</td>\n",
       "      <td>0.0</td>\n",
       "      <td>0</td>\n",
       "      <td>0.857143</td>\n",
       "      <td>1.0</td>\n",
       "      <td>0</td>\n",
       "      <td>0.923077</td>\n",
       "      <td>0.85</td>\n",
       "      <td>0.785714</td>\n",
       "      <td>1.0</td>\n",
       "      <td>0.0</td>\n",
       "    </tr>\n",
       "    <tr>\n",
       "      <th>...</th>\n",
       "      <td>...</td>\n",
       "      <td>...</td>\n",
       "      <td>...</td>\n",
       "      <td>...</td>\n",
       "      <td>...</td>\n",
       "      <td>...</td>\n",
       "      <td>...</td>\n",
       "      <td>...</td>\n",
       "      <td>...</td>\n",
       "      <td>...</td>\n",
       "      <td>...</td>\n",
       "      <td>...</td>\n",
       "      <td>...</td>\n",
       "      <td>...</td>\n",
       "    </tr>\n",
       "    <tr>\n",
       "      <th>153345</th>\n",
       "      <td>1575178</td>\n",
       "      <td>0</td>\n",
       "      <td>0</td>\n",
       "      <td>0.0</td>\n",
       "      <td>0.0</td>\n",
       "      <td>0</td>\n",
       "      <td>0.000000</td>\n",
       "      <td>0.0</td>\n",
       "      <td>0</td>\n",
       "      <td>0.000000</td>\n",
       "      <td>0.00</td>\n",
       "      <td>0.000000</td>\n",
       "      <td>0.0</td>\n",
       "      <td>0.0</td>\n",
       "    </tr>\n",
       "    <tr>\n",
       "      <th>153346</th>\n",
       "      <td>1575184</td>\n",
       "      <td>0</td>\n",
       "      <td>0</td>\n",
       "      <td>0.0</td>\n",
       "      <td>0.0</td>\n",
       "      <td>0</td>\n",
       "      <td>0.000000</td>\n",
       "      <td>0.0</td>\n",
       "      <td>0</td>\n",
       "      <td>0.000000</td>\n",
       "      <td>0.00</td>\n",
       "      <td>0.000000</td>\n",
       "      <td>0.0</td>\n",
       "      <td>0.0</td>\n",
       "    </tr>\n",
       "    <tr>\n",
       "      <th>153347</th>\n",
       "      <td>1575186</td>\n",
       "      <td>0</td>\n",
       "      <td>0</td>\n",
       "      <td>0.0</td>\n",
       "      <td>0.0</td>\n",
       "      <td>0</td>\n",
       "      <td>0.000000</td>\n",
       "      <td>0.0</td>\n",
       "      <td>0</td>\n",
       "      <td>0.000000</td>\n",
       "      <td>0.00</td>\n",
       "      <td>0.000000</td>\n",
       "      <td>0.0</td>\n",
       "      <td>0.0</td>\n",
       "    </tr>\n",
       "    <tr>\n",
       "      <th>153348</th>\n",
       "      <td>1575189</td>\n",
       "      <td>0</td>\n",
       "      <td>0</td>\n",
       "      <td>0.0</td>\n",
       "      <td>0.0</td>\n",
       "      <td>0</td>\n",
       "      <td>0.000000</td>\n",
       "      <td>0.0</td>\n",
       "      <td>0</td>\n",
       "      <td>0.000000</td>\n",
       "      <td>0.00</td>\n",
       "      <td>0.000000</td>\n",
       "      <td>0.0</td>\n",
       "      <td>0.0</td>\n",
       "    </tr>\n",
       "    <tr>\n",
       "      <th>153349</th>\n",
       "      <td>1575206</td>\n",
       "      <td>0</td>\n",
       "      <td>0</td>\n",
       "      <td>0.0</td>\n",
       "      <td>0.0</td>\n",
       "      <td>0</td>\n",
       "      <td>0.000000</td>\n",
       "      <td>0.0</td>\n",
       "      <td>0</td>\n",
       "      <td>1.000000</td>\n",
       "      <td>0.00</td>\n",
       "      <td>0.000000</td>\n",
       "      <td>0.0</td>\n",
       "      <td>0.0</td>\n",
       "    </tr>\n",
       "  </tbody>\n",
       "</table>\n",
       "<p>153350 rows × 14 columns</p>\n",
       "</div>"
      ],
      "text/plain": [
       "         UserID  Edict_IsFreeSpinID_avg  Evolution_IsFreeSpinID_avg  \\\n",
       "0            99                       0                           0   \n",
       "1           104                       0                           0   \n",
       "2           105                       0                           0   \n",
       "3        582983                       0                           0   \n",
       "4        583003                       0                           0   \n",
       "...         ...                     ...                         ...   \n",
       "153345  1575178                       0                           0   \n",
       "153346  1575184                       0                           0   \n",
       "153347  1575186                       0                           0   \n",
       "153348  1575189                       0                           0   \n",
       "153349  1575206                       0                           0   \n",
       "\n",
       "        EvolutionDirect_IsFreeSpinID_avg  Iforium_IsFreeSpinID_avg  \\\n",
       "0                                    0.0                       0.0   \n",
       "1                                    0.0                       0.0   \n",
       "2                                    0.0                       0.0   \n",
       "3                                    0.0                       0.0   \n",
       "4                                    0.0                       0.0   \n",
       "...                                  ...                       ...   \n",
       "153345                               0.0                       0.0   \n",
       "153346                               0.0                       0.0   \n",
       "153347                               0.0                       0.0   \n",
       "153348                               0.0                       0.0   \n",
       "153349                               0.0                       0.0   \n",
       "\n",
       "        MicroGaming_IsFreeSpinID_avg  NetEnt_IsFreeSpinID_avg  \\\n",
       "0                                  0                 0.000000   \n",
       "1                                  0                 0.000000   \n",
       "2                                  0                 0.000000   \n",
       "3                                  0                 1.000000   \n",
       "4                                  0                 0.857143   \n",
       "...                              ...                      ...   \n",
       "153345                             0                 0.000000   \n",
       "153346                             0                 0.000000   \n",
       "153347                             0                 0.000000   \n",
       "153348                             0                 0.000000   \n",
       "153349                             0                 0.000000   \n",
       "\n",
       "        Nyx_IsFreeSpinID_avg  Oryx_IsFreeSpinID_avg  PlayNGo_IsFreeSpinID_avg  \\\n",
       "0                        0.0                      0                  0.000000   \n",
       "1                        0.0                      0                  0.000000   \n",
       "2                        0.0                      0                  0.000000   \n",
       "3                        0.0                      0                  0.000000   \n",
       "4                        1.0                      0                  0.923077   \n",
       "...                      ...                    ...                       ...   \n",
       "153345                   0.0                      0                  0.000000   \n",
       "153346                   0.0                      0                  0.000000   \n",
       "153347                   0.0                      0                  0.000000   \n",
       "153348                   0.0                      0                  0.000000   \n",
       "153349                   0.0                      0                  1.000000   \n",
       "\n",
       "        PlayTech_IsFreeSpinID_avg  PragmaticPlay_IsFreeSpinID_avg  \\\n",
       "0                            0.00                        0.000000   \n",
       "1                            0.00                        0.000000   \n",
       "2                            0.00                        0.000000   \n",
       "3                            0.50                        1.000000   \n",
       "4                            0.85                        0.785714   \n",
       "...                           ...                             ...   \n",
       "153345                       0.00                        0.000000   \n",
       "153346                       0.00                        0.000000   \n",
       "153347                       0.00                        0.000000   \n",
       "153348                       0.00                        0.000000   \n",
       "153349                       0.00                        0.000000   \n",
       "\n",
       "        RedTiger_IsFreeSpinID_avg  Skywind_IsFreeSpinID_avg  \n",
       "0                             0.0                       0.0  \n",
       "1                             0.0                       0.0  \n",
       "2                             0.0                       0.0  \n",
       "3                             1.0                       0.0  \n",
       "4                             1.0                       0.0  \n",
       "...                           ...                       ...  \n",
       "153345                        0.0                       0.0  \n",
       "153346                        0.0                       0.0  \n",
       "153347                        0.0                       0.0  \n",
       "153348                        0.0                       0.0  \n",
       "153349                        0.0                       0.0  \n",
       "\n",
       "[153350 rows x 14 columns]"
      ]
     },
     "execution_count": 466,
     "metadata": {},
     "output_type": "execute_result"
    }
   ],
   "source": [
    "spin = games.groupby(['UserID','Casino_Provider']).agg({'IsFreeSpinID':['mean']})\n",
    "spin= spin.IsFreeSpinID\n",
    "spin= spin.reset_index() \n",
    "spin = spin.rename({'mean': 'IsFreeSpinID_avg'}, axis=1) \n",
    "\n",
    "#Pivot table\n",
    "spin_trn = spin.pivot_table(index=['UserID'], \n",
    "                            columns='Casino_Provider', \n",
    "                            values=['IsFreeSpinID_avg'], aggfunc='first',fill_value=0)\n",
    "spin_trn.columns = [f'{b}_{a}' for a, b in spin_trn.columns]\n",
    "spin_trn = spin_trn.reset_index()\n",
    "spin_trn"
   ]
  },
  {
   "cell_type": "markdown",
   "id": "26fe3ae4",
   "metadata": {},
   "source": [
    "### Age of users "
   ]
  },
  {
   "cell_type": "code",
   "execution_count": 467,
   "id": "9b1b577d",
   "metadata": {},
   "outputs": [],
   "source": [
    "curr_time = pd.to_datetime(\"now\")\n",
    "users['Age']=(curr_time - users['BirthDate']).astype('<m8[Y]')"
   ]
  },
  {
   "cell_type": "markdown",
   "id": "702aa761",
   "metadata": {},
   "source": [
    "## Create the dataset for clustering: \n",
    "It includes: 1. customers who are in customer database (users df)\n",
    "             2. customers with customer wallet info (wallet df) and \n",
    "             3. customers who have made a transaction on a casino game (casino games df)"
   ]
  },
  {
   "cell_type": "code",
   "execution_count": 482,
   "id": "88fe9347",
   "metadata": {},
   "outputs": [
    {
     "data": {
      "text/plain": [
       "(1313, 36)"
      ]
     },
     "execution_count": 482,
     "metadata": {},
     "output_type": "execute_result"
    }
   ],
   "source": [
    "combined_df= users[['UserID']].merge(Frequency_trn,on='UserID',how='inner').merge(Recency_trn,on='UserID',how='inner').merge(Avg_amount_type_trn,on='UserID',how='inner').merge(games_user_count_trn,on='UserID',how='inner').merge(Frequency_games_trn,on='UserID',how='inner')\n",
    "# The user 1529537 is outlier -> remove him\n",
    "combined_df=combined_df.loc[combined_df.UserID!=1529537]\n",
    "combined_df.reset_index(drop=True,inplace=True)\n",
    "combined_df.shape"
   ]
  },
  {
   "cell_type": "markdown",
   "id": "3563de9d",
   "metadata": {},
   "source": [
    "## Data model preparation"
   ]
  },
  {
   "cell_type": "markdown",
   "id": "ddb9808f",
   "metadata": {},
   "source": [
    "### 1. Correlation matrix"
   ]
  },
  {
   "cell_type": "code",
   "execution_count": 483,
   "id": "a823420e",
   "metadata": {},
   "outputs": [
    {
     "data": {
      "text/plain": [
       "<AxesSubplot:>"
      ]
     },
     "execution_count": 483,
     "metadata": {},
     "output_type": "execute_result"
    },
    {
     "data": {
      "image/png": "[encoded data removed]",
      "text/plain": [
       "<Figure size 432x288 with 2 Axes>"
      ]
     },
     "metadata": {
      "needs_background": "light"
     },
     "output_type": "display_data"
    }
   ],
   "source": [
    "corr_plot = sb.heatmap(combined_df.corr(), cmap=\"YlGnBu\")\n",
    "corr_plot"
   ]
  },
  {
   "cell_type": "code",
   "execution_count": 484,
   "id": "478abb8f",
   "metadata": {},
   "outputs": [],
   "source": [
    "# Remove columns based on correlation insights\n",
    "combined_df2=combined_df.drop(['DEPOSIT_sum','WITHDRAW_sum','EvolutionDirect_count','PragmaticPlay_count'], axis = 1)\n"
   ]
  },
  {
   "cell_type": "markdown",
   "id": "c2369d13",
   "metadata": {},
   "source": [
    "### 2. One hot encoding for factors "
   ]
  },
  {
   "cell_type": "code",
   "execution_count": 485,
   "id": "70b02a9d",
   "metadata": {},
   "outputs": [],
   "source": [
    "one_hot_df=pd.get_dummies(combined_df2['Profit or Loss'])\n",
    "one_hot_df.reset_index(drop=True,inplace=True)\n",
    "del combined_df2['Profit or Loss']\n",
    "combined_df3 = pd.concat([combined_df2, one_hot_df], axis=1)"
   ]
  },
  {
   "cell_type": "markdown",
   "id": "f92ecbef",
   "metadata": {},
   "source": [
    "### 3. Standardization "
   ]
  },
  {
   "cell_type": "code",
   "execution_count": 488,
   "id": "dab4f1d8",
   "metadata": {},
   "outputs": [],
   "source": [
    "# Remove binaries from std process\n",
    "Binaries = ['Profit','Loss']\n",
    "df_to_std = combined_df3.drop(Binaries, 1) \n",
    "Binaries_df = combined_df3[Binaries]\n",
    "df_to_std_names = df_to_std.iloc[: , 1:].columns # remove UserID and then get column names\n",
    "\n",
    "# Std only numerics\n",
    "df_to_std = StandardScaler().fit_transform(df_to_std.iloc[: , 1:]) \n",
    "df_to_std = pd.DataFrame(df_to_std)\n",
    "df_to_std.columns = df_to_std_names # rename columns appropriatly \n",
    "\n",
    "# Bring together numeric features and binary \n",
    "combined_df4 = pd.concat([df_to_std, Binaries_df], axis=1)"
   ]
  },
  {
   "cell_type": "markdown",
   "id": "87ea5119",
   "metadata": {},
   "source": [
    "### 4. Convert to array "
   ]
  },
  {
   "cell_type": "code",
   "execution_count": 489,
   "id": "24c1725b",
   "metadata": {},
   "outputs": [],
   "source": [
    "combined_df5 = combined_df4.values"
   ]
  },
  {
   "cell_type": "markdown",
   "id": "2b203173",
   "metadata": {},
   "source": [
    "## Optimal number of clusters "
   ]
  },
  {
   "cell_type": "code",
   "execution_count": 490,
   "id": "fd17a83e",
   "metadata": {},
   "outputs": [
    {
     "data": {
      "image/png": "[encoded data removed]",
      "text/plain": [
       "<Figure size 432x288 with 1 Axes>"
      ]
     },
     "metadata": {
      "needs_background": "light"
     },
     "output_type": "display_data"
    }
   ],
   "source": [
    "# Elbow Method: small inertia\n",
    "\n",
    "score = []\n",
    "\n",
    "for cluster in range(1,11):\n",
    "    kmeans = KMeans(n_clusters = cluster, init=\"k-means++\", random_state=10)\n",
    "    kmeans.fit(combined_df5)\n",
    "    score.append(kmeans.inertia_)\n",
    "    \n",
    "# plotting the score\n",
    "\n",
    "plt.plot(range(1,11), score)\n",
    "plt.title('The Elbow Method')\n",
    "plt.xlabel('no of clusters')\n",
    "plt.ylabel('wcss')\n",
    "plt.show()"
   ]
  },
  {
   "cell_type": "code",
   "execution_count": 491,
   "id": "9387589f",
   "metadata": {},
   "outputs": [
    {
     "name": "stdout",
     "output_type": "stream",
     "text": [
      "On cluster: 2 Silhouette score: 0.21701530109278616\n",
      "On cluster: 3 Silhouette score: 0.1749818716218115\n",
      "On cluster: 4 Silhouette score: 0.20463111063826364\n",
      "On cluster: 5 Silhouette score: 0.18055265894811434\n",
      "On cluster: 6 Silhouette score: 0.18906180869981434\n",
      "On cluster: 7 Silhouette score: 0.19548306083289055\n",
      "On cluster: 8 Silhouette score: 0.1857158722379796\n",
      "On cluster: 9 Silhouette score: 0.18886367500392784\n",
      "On cluster: 10 Silhouette score: 0.192176550543908\n"
     ]
    }
   ],
   "source": [
    "# Silhouette score: close to 1 \n",
    "\n",
    "for clusters in range(2,11):\n",
    " \n",
    " kmeans = KMeans(n_clusters=clusters)\n",
    " kmeans.fit(combined_df5)\n",
    " cluster_labels = kmeans.labels_\n",
    " print(\"On cluster:\",clusters,\"Silhouette score:\",silhouette_score(combined_df5, cluster_labels))"
   ]
  },
  {
   "cell_type": "markdown",
   "id": "a35f2ea9",
   "metadata": {},
   "source": [
    "## KMeans clustering with k=3"
   ]
  },
  {
   "cell_type": "code",
   "execution_count": 492,
   "id": "dc750237",
   "metadata": {},
   "outputs": [
    {
     "data": {
      "text/plain": [
       "array([1, 1, 0, ..., 1, 1, 1], dtype=int32)"
      ]
     },
     "execution_count": 492,
     "metadata": {},
     "output_type": "execute_result"
    }
   ],
   "source": [
    "kmeans = KMeans(n_clusters=2)\n",
    "kmeans.fit(combined_df5)\n",
    "y_kmeans = kmeans.predict(combined_df5)\n",
    "y_kmeans"
   ]
  },
  {
   "cell_type": "code",
   "execution_count": 493,
   "id": "38475304",
   "metadata": {},
   "outputs": [
    {
     "data": {
      "text/html": [
       "<div>\n",
       "<style scoped>\n",
       "    .dataframe tbody tr th:only-of-type {\n",
       "        vertical-align: middle;\n",
       "    }\n",
       "\n",
       "    .dataframe tbody tr th {\n",
       "        vertical-align: top;\n",
       "    }\n",
       "\n",
       "    .dataframe thead tr th {\n",
       "        text-align: left;\n",
       "    }\n",
       "\n",
       "    .dataframe thead tr:last-of-type th {\n",
       "        text-align: right;\n",
       "    }\n",
       "</style>\n",
       "<table border=\"1\" class=\"dataframe\">\n",
       "  <thead>\n",
       "    <tr>\n",
       "      <th></th>\n",
       "      <th>UserID</th>\n",
       "    </tr>\n",
       "    <tr>\n",
       "      <th></th>\n",
       "      <th>nunique</th>\n",
       "    </tr>\n",
       "    <tr>\n",
       "      <th>0</th>\n",
       "      <th></th>\n",
       "    </tr>\n",
       "  </thead>\n",
       "  <tbody>\n",
       "    <tr>\n",
       "      <th>0</th>\n",
       "      <td>500</td>\n",
       "    </tr>\n",
       "    <tr>\n",
       "      <th>1</th>\n",
       "      <td>813</td>\n",
       "    </tr>\n",
       "  </tbody>\n",
       "</table>\n",
       "</div>"
      ],
      "text/plain": [
       "   UserID\n",
       "  nunique\n",
       "0        \n",
       "0     500\n",
       "1     813"
      ]
     },
     "execution_count": 493,
     "metadata": {},
     "output_type": "execute_result"
    }
   ],
   "source": [
    "finalDf = pd.concat([pd.DataFrame(y_kmeans), combined_df], axis = 1)\n",
    "finalDf.groupby(0).agg({'UserID':['nunique']})"
   ]
  },
  {
   "cell_type": "markdown",
   "id": "5871622b",
   "metadata": {},
   "source": [
    "## PCA to examine if inertia and Silhouette score are improved "
   ]
  },
  {
   "cell_type": "code",
   "execution_count": 494,
   "id": "aaabb95a",
   "metadata": {},
   "outputs": [
    {
     "data": {
      "image/png": "[encoded data removed]",
      "text/plain": [
       "<Figure size 432x288 with 1 Axes>"
      ]
     },
     "metadata": {
      "needs_background": "light"
     },
     "output_type": "display_data"
    }
   ],
   "source": [
    "# Fit PCA\n",
    "pca = PCA().fit(combined_df5) \n",
    "\n",
    "# Select the number of components based on the explained variance\n",
    "plt.plot(np.cumsum(pca.explained_variance_ratio_))\n",
    "plt.xlabel('Number of Components')\n",
    "plt.ylabel('Variance (%)') \n",
    "plt.title('Pulsar Dataset Explained Variance')\n",
    "plt.show()"
   ]
  },
  {
   "cell_type": "code",
   "execution_count": 495,
   "id": "44aa626d",
   "metadata": {},
   "outputs": [
    {
     "name": "stdout",
     "output_type": "stream",
     "text": [
      "[5.17874251 2.30988375 2.06828556 1.50176825]\n"
     ]
    }
   ],
   "source": [
    "pca = PCA(n_components=4)\n",
    "\n",
    "pca.fit_transform(combined_df5)\n",
    "\n",
    "print (pca.explained_variance_)\n",
    "#print (pca.explained_variance_ratio_)\n",
    "#print (pca.explained_variance_ratio_.cumsum())\n",
    "\n",
    "pca_rescaled = pca.fit_transform(combined_df5)\n",
    "# Save components to a DataFrame\n",
    "PCA_components = pd.DataFrame(pca_rescaled)"
   ]
  },
  {
   "cell_type": "code",
   "execution_count": 496,
   "id": "9f72eb75",
   "metadata": {
    "scrolled": true
   },
   "outputs": [
    {
     "data": {
      "image/png": "[encoded data removed]",
      "text/plain": [
       "<Figure size 432x288 with 1 Axes>"
      ]
     },
     "metadata": {
      "needs_background": "light"
     },
     "output_type": "display_data"
    }
   ],
   "source": [
    "# Elbow Method: small inertia\n",
    "\n",
    "score = []\n",
    "\n",
    "for cluster in range(1,11):\n",
    "    kmeans = KMeans(n_clusters = cluster, init=\"k-means++\", random_state=10)\n",
    "    kmeans.fit(PCA_components)\n",
    "    score.append(kmeans.inertia_)\n",
    "    \n",
    "# plotting the score\n",
    "\n",
    "plt.plot(range(1,11), score)\n",
    "plt.title('The Elbow Method')\n",
    "plt.xlabel('no of clusters')\n",
    "plt.ylabel('wcss')\n",
    "plt.show()"
   ]
  },
  {
   "cell_type": "code",
   "execution_count": 497,
   "id": "df6fa278",
   "metadata": {},
   "outputs": [
    {
     "name": "stdout",
     "output_type": "stream",
     "text": [
      "On cluster: 2 Silhouette score: 0.4079844890937101\n",
      "On cluster: 3 Silhouette score: 0.3985519025843822\n",
      "On cluster: 4 Silhouette score: 0.41080415724012337\n",
      "On cluster: 5 Silhouette score: 0.42853527159830024\n",
      "On cluster: 6 Silhouette score: 0.4154333097384924\n",
      "On cluster: 7 Silhouette score: 0.3570653361008212\n",
      "On cluster: 8 Silhouette score: 0.36730560129348827\n",
      "On cluster: 9 Silhouette score: 0.36556831914253746\n",
      "On cluster: 10 Silhouette score: 0.3591774572815528\n"
     ]
    }
   ],
   "source": [
    "# Silhouette score: close to 1 \n",
    "\n",
    "for clusters in range(2,11):\n",
    " \n",
    " kmeans = KMeans(n_clusters=clusters)\n",
    " kmeans.fit(PCA_components)\n",
    " cluster_labels = kmeans.labels_\n",
    " print(\"On cluster:\",clusters,\"Silhouette score:\",silhouette_score(PCA_components, cluster_labels))"
   ]
  },
  {
   "cell_type": "code",
   "execution_count": 504,
   "id": "6d39d6bb",
   "metadata": {},
   "outputs": [
    {
     "data": {
      "text/plain": [
       "array([0, 0, 0, ..., 0, 2, 2], dtype=int32)"
      ]
     },
     "execution_count": 504,
     "metadata": {},
     "output_type": "execute_result"
    }
   ],
   "source": [
    "# Kmeans with k=3\n",
    "\n",
    "kmeans = KMeans(n_clusters=3)\n",
    "kmeans.fit(PCA_components)\n",
    "y_kmeans = kmeans.predict(PCA_components)\n",
    "y_kmeans"
   ]
  },
  {
   "cell_type": "code",
   "execution_count": 505,
   "id": "680d54f4",
   "metadata": {},
   "outputs": [
    {
     "data": {
      "text/plain": [
       "<matplotlib.collections.PathCollection at 0x7fba0011bfa0>"
      ]
     },
     "execution_count": 505,
     "metadata": {},
     "output_type": "execute_result"
    },
    {
     "data": {
      "image/png": "[encoded data removed]",
      "text/plain": [
       "<Figure size 432x288 with 1 Axes>"
      ]
     },
     "metadata": {
      "needs_background": "light"
     },
     "output_type": "display_data"
    }
   ],
   "source": [
    "# Visualize clusters\n",
    "\n",
    "plt.scatter(PCA_components[0], PCA_components[1], c=y_kmeans, s=50, cmap='viridis')\n",
    "\n",
    "centers = kmeans.cluster_centers_\n",
    "plt.scatter(centers[:, 0], centers[:, 1],c='black', s=200, alpha=0.5)"
   ]
  },
  {
   "cell_type": "code",
   "execution_count": 506,
   "id": "607edccc",
   "metadata": {},
   "outputs": [
    {
     "data": {
      "text/html": [
       "<div>\n",
       "<style scoped>\n",
       "    .dataframe tbody tr th:only-of-type {\n",
       "        vertical-align: middle;\n",
       "    }\n",
       "\n",
       "    .dataframe tbody tr th {\n",
       "        vertical-align: top;\n",
       "    }\n",
       "\n",
       "    .dataframe thead tr th {\n",
       "        text-align: left;\n",
       "    }\n",
       "\n",
       "    .dataframe thead tr:last-of-type th {\n",
       "        text-align: right;\n",
       "    }\n",
       "</style>\n",
       "<table border=\"1\" class=\"dataframe\">\n",
       "  <thead>\n",
       "    <tr>\n",
       "      <th></th>\n",
       "      <th>UserID</th>\n",
       "    </tr>\n",
       "    <tr>\n",
       "      <th></th>\n",
       "      <th>nunique</th>\n",
       "    </tr>\n",
       "    <tr>\n",
       "      <th>Cluster</th>\n",
       "      <th></th>\n",
       "    </tr>\n",
       "  </thead>\n",
       "  <tbody>\n",
       "    <tr>\n",
       "      <th>0</th>\n",
       "      <td>511</td>\n",
       "    </tr>\n",
       "    <tr>\n",
       "      <th>1</th>\n",
       "      <td>92</td>\n",
       "    </tr>\n",
       "    <tr>\n",
       "      <th>2</th>\n",
       "      <td>710</td>\n",
       "    </tr>\n",
       "  </tbody>\n",
       "</table>\n",
       "</div>"
      ],
      "text/plain": [
       "         UserID\n",
       "        nunique\n",
       "Cluster        \n",
       "0           511\n",
       "1            92\n",
       "2           710"
      ]
     },
     "execution_count": 506,
     "metadata": {},
     "output_type": "execute_result"
    }
   ],
   "source": [
    "# Bring cluster value per user\n",
    "cluster_df=pd.DataFrame(y_kmeans)\n",
    "cluster_df= cluster_df.rename({0: 'Cluster'}, axis=1)\n",
    "\n",
    "cluster_combined_df = pd.concat([cluster_df, combined_df], axis = 1)\n",
    "cluster_combined_df.groupby('Cluster').agg({'UserID':['nunique']})"
   ]
  },
  {
   "cell_type": "markdown",
   "id": "6640c82a",
   "metadata": {},
   "source": [
    "## Profiling "
   ]
  },
  {
   "cell_type": "markdown",
   "id": "1873c1f9",
   "metadata": {},
   "source": [
    "### 1. Dataset for profiling"
   ]
  },
  {
   "cell_type": "code",
   "execution_count": 507,
   "id": "d30226e8",
   "metadata": {},
   "outputs": [],
   "source": [
    "# a. One hot encoding users df\n",
    "\n",
    "# One hot encoding for region\n",
    "country_enc=pd.get_dummies(users.CountryName)\n",
    "\n",
    "country_enc.reset_index(drop=True,inplace=True)\n",
    "users.reset_index(drop=True,inplace=True)\n",
    "\n",
    "users = pd.concat([users, country_enc], axis=1)\n",
    "\n",
    "# One hot encoding for gender\n",
    "gender_enc=pd.get_dummies(users.Sex)\n",
    "\n",
    "gender_enc.reset_index(drop=True,inplace=True)\n",
    "\n",
    "users = pd.concat([users, gender_enc], axis=1)\n",
    "\n",
    "# One hot encoding for age\n",
    "age_enc=pd.get_dummies(users.Age)\n",
    "age_enc.columns = [str(col) + '_Age' for col in age_enc.columns]\n",
    "\n",
    "age_enc.reset_index(drop=True,inplace=True)\n",
    "\n",
    "users = pd.concat([users, age_enc], axis=1)\n",
    "\n",
    "# One hot encoding for status\n",
    "status_enc=pd.get_dummies(users.StatusSysname)\n",
    "\n",
    "status_enc.reset_index(drop=True,inplace=True)\n",
    "\n",
    "users = pd.concat([users, status_enc], axis=1)\n"
   ]
  },
  {
   "cell_type": "code",
   "execution_count": 508,
   "id": "6a7d1308",
   "metadata": {},
   "outputs": [],
   "source": [
    "#Remove useless columns from user df\n",
    "users2 = users.drop(['BirthDate', 'ZipCode','CountryName','Sex',\n",
    "                    'Registration Date','City',\n",
    "                    'CountryId','StatusSysname'], axis=1)\n",
    "#users2.shape,users2.UserID.nunique()"
   ]
  },
  {
   "cell_type": "code",
   "execution_count": 509,
   "id": "3b0dff0a",
   "metadata": {},
   "outputs": [],
   "source": [
    "# b. One hot encoding on wallet\n",
    "methodpaym_enc=pd.get_dummies(wallet.MethodSysname)\n",
    "\n",
    "methodpaym_enc.reset_index(drop=True,inplace=True)\n",
    "wallet.reset_index(drop=True,inplace=True)\n",
    "\n",
    "wallet = pd.concat([wallet, methodpaym_enc], axis=1)"
   ]
  },
  {
   "cell_type": "code",
   "execution_count": 422,
   "id": "592edfd6",
   "metadata": {},
   "outputs": [],
   "source": [
    "#Remove useless columns from wallet df\n",
    "wallet2 = wallet.drop(['WalletActionId', 'Type','TypeSysname','Amount',\n",
    "                    'MethodSysname','Created'], axis=1)\n",
    "wallet2=wallet2.drop_duplicates(['UserID']) #unique customers\n",
    "#wallet2.shape,wallet2.UserID.nunique()"
   ]
  },
  {
   "cell_type": "code",
   "execution_count": 510,
   "id": "45dbe479",
   "metadata": {},
   "outputs": [
    {
     "data": {
      "text/plain": [
       "((1313, 36), 1313)"
      ]
     },
     "execution_count": 510,
     "metadata": {},
     "output_type": "execute_result"
    }
   ],
   "source": [
    "combined_df.shape,combined_df.UserID.nunique()"
   ]
  },
  {
   "cell_type": "code",
   "execution_count": 511,
   "id": "895d23b3",
   "metadata": {},
   "outputs": [],
   "source": [
    "# Merge dfs\n",
    "profiling_df= combined_df.merge(users2,on='UserID',how='left').merge(wallet2,on='UserID',how='left')\n",
    "profiling_df.shape,profiling_df.UserID.nunique() # = combined_df.shape\n",
    "\n",
    "# Add profit or loss KPI\n",
    "profiling_df= profiling_df.merge(combined_df3[['UserID','Profit','Loss']],on='UserID',how='left')\n",
    "\n",
    "#Bring the cluster for each user\n",
    "profiling_df2= profiling_df.merge(cluster_combined_df[['UserID','Cluster']],on='UserID',how='left')\n",
    "profiling_df2.shape\n",
    "\n",
    "# Conver to numeric before aggregations\n",
    "cols = profiling_df2.columns.drop('UserID')\n",
    "profiling_df2[cols] = profiling_df2[cols].apply(pd.to_numeric, errors='coerce')"
   ]
  },
  {
   "cell_type": "markdown",
   "id": "209556ca",
   "metadata": {},
   "source": [
    "### 2. Profiling aggregations\n",
    "1. Total average values in whole population\n",
    "2. Total average values per cluster"
   ]
  },
  {
   "cell_type": "code",
   "execution_count": 512,
   "id": "129e0d32",
   "metadata": {},
   "outputs": [],
   "source": [
    "# create a new df to assign a col of 0s to calculate the total averages per KPI\n",
    "features_clusters_zeros = profiling_df2.assign(zero_col=0)\n",
    "\n",
    "# drop some features to do the pivot\n",
    "features_clusters_zeros2 = features_clusters_zeros.drop(['UserID','Cluster','Profit or Loss'], axis=1)\n",
    "\n",
    "# pivot total averages per KPI\n",
    "pvt_totals = pd.pivot_table(features_clusters_zeros2,index=['zero_col'], aggfunc=np.mean)\n",
    "\n",
    "tr_totals = pvt_totals.transpose()\n",
    "\n",
    "tr_totals = tr_totals.reset_index()\n",
    "tr_totals = tr_totals.rename(columns = {'index':'KPIs', 0:'Total_KPI_avg'})\n",
    "tr_totals.to_excel(r'profiling_results_totals.xlsx', index = True)"
   ]
  },
  {
   "cell_type": "code",
   "execution_count": 513,
   "id": "16b747cc",
   "metadata": {},
   "outputs": [
    {
     "data": {
      "text/html": [
       "<div>\n",
       "<style scoped>\n",
       "    .dataframe tbody tr th:only-of-type {\n",
       "        vertical-align: middle;\n",
       "    }\n",
       "\n",
       "    .dataframe tbody tr th {\n",
       "        vertical-align: top;\n",
       "    }\n",
       "\n",
       "    .dataframe thead th {\n",
       "        text-align: right;\n",
       "    }\n",
       "</style>\n",
       "<table border=\"1\" class=\"dataframe\">\n",
       "  <thead>\n",
       "    <tr style=\"text-align: right;\">\n",
       "      <th>Cluster</th>\n",
       "      <th>KPIs</th>\n",
       "      <th>Avg_Cluster_1</th>\n",
       "      <th>Avg_Cluster_2</th>\n",
       "      <th>Avg_Cluster_3</th>\n",
       "    </tr>\n",
       "  </thead>\n",
       "  <tbody>\n",
       "    <tr>\n",
       "      <th>0</th>\n",
       "      <td>121.0_Age</td>\n",
       "      <td>0.000000</td>\n",
       "      <td>0.000000</td>\n",
       "      <td>0.000000</td>\n",
       "    </tr>\n",
       "    <tr>\n",
       "      <th>1</th>\n",
       "      <td>18.0_Age</td>\n",
       "      <td>0.000000</td>\n",
       "      <td>0.000000</td>\n",
       "      <td>0.001408</td>\n",
       "    </tr>\n",
       "    <tr>\n",
       "      <th>2</th>\n",
       "      <td>19.0_Age</td>\n",
       "      <td>0.000000</td>\n",
       "      <td>0.000000</td>\n",
       "      <td>0.000000</td>\n",
       "    </tr>\n",
       "    <tr>\n",
       "      <th>3</th>\n",
       "      <td>20.0_Age</td>\n",
       "      <td>0.000000</td>\n",
       "      <td>0.000000</td>\n",
       "      <td>0.002817</td>\n",
       "    </tr>\n",
       "    <tr>\n",
       "      <th>4</th>\n",
       "      <td>21.0_Age</td>\n",
       "      <td>0.123288</td>\n",
       "      <td>0.097826</td>\n",
       "      <td>0.070423</td>\n",
       "    </tr>\n",
       "    <tr>\n",
       "      <th>...</th>\n",
       "      <td>...</td>\n",
       "      <td>...</td>\n",
       "      <td>...</td>\n",
       "      <td>...</td>\n",
       "    </tr>\n",
       "    <tr>\n",
       "      <th>127</th>\n",
       "      <td>VivaWallet</td>\n",
       "      <td>0.000000</td>\n",
       "      <td>0.000000</td>\n",
       "      <td>0.000000</td>\n",
       "    </tr>\n",
       "    <tr>\n",
       "      <th>128</th>\n",
       "      <td>WITHDRAW_Frequency</td>\n",
       "      <td>3.667906</td>\n",
       "      <td>4.947826</td>\n",
       "      <td>0.779437</td>\n",
       "    </tr>\n",
       "    <tr>\n",
       "      <th>129</th>\n",
       "      <td>WITHDRAW_Recency</td>\n",
       "      <td>11.084149</td>\n",
       "      <td>10.891304</td>\n",
       "      <td>5.791549</td>\n",
       "    </tr>\n",
       "    <tr>\n",
       "      <th>130</th>\n",
       "      <td>WITHDRAW_mean</td>\n",
       "      <td>89.867443</td>\n",
       "      <td>138.498661</td>\n",
       "      <td>116.504917</td>\n",
       "    </tr>\n",
       "    <tr>\n",
       "      <th>131</th>\n",
       "      <td>WITHDRAW_sum</td>\n",
       "      <td>515.324168</td>\n",
       "      <td>1096.191957</td>\n",
       "      <td>539.626620</td>\n",
       "    </tr>\n",
       "  </tbody>\n",
       "</table>\n",
       "<p>132 rows × 4 columns</p>\n",
       "</div>"
      ],
      "text/plain": [
       "Cluster                KPIs  Avg_Cluster_1  Avg_Cluster_2  Avg_Cluster_3\n",
       "0                 121.0_Age       0.000000       0.000000       0.000000\n",
       "1                  18.0_Age       0.000000       0.000000       0.001408\n",
       "2                  19.0_Age       0.000000       0.000000       0.000000\n",
       "3                  20.0_Age       0.000000       0.000000       0.002817\n",
       "4                  21.0_Age       0.123288       0.097826       0.070423\n",
       "..                      ...            ...            ...            ...\n",
       "127              VivaWallet       0.000000       0.000000       0.000000\n",
       "128      WITHDRAW_Frequency       3.667906       4.947826       0.779437\n",
       "129        WITHDRAW_Recency      11.084149      10.891304       5.791549\n",
       "130           WITHDRAW_mean      89.867443     138.498661     116.504917\n",
       "131            WITHDRAW_sum     515.324168    1096.191957     539.626620\n",
       "\n",
       "[132 rows x 4 columns]"
      ]
     },
     "execution_count": 513,
     "metadata": {},
     "output_type": "execute_result"
    }
   ],
   "source": [
    "#pivot all KPIs, mean value for each KPI per cluster\n",
    "pvt_avg_kpi_clst = pd.pivot_table(profiling_df2, index=['Cluster'], aggfunc=np.mean)\n",
    "# pvt_avg_kpi_clst.head()\n",
    "\n",
    "#Transpose data\n",
    "tr_avg_kpi_clst = pvt_avg_kpi_clst.transpose()\n",
    "tr_avg_kpi_clst.head()\n",
    "\n",
    "#Reset index to rename columns\n",
    "tr_avg_kpi_clst.reset_index(inplace=True)\n",
    "tr_avg_kpi_clst\n",
    "tr_avg_kpi_clst = tr_avg_kpi_clst.rename(columns = {'index':'KPIs', 0:'Avg_Cluster_1', 1:'Avg_Cluster_2', 2:'Avg_Cluster_3'})\n",
    "tr_avg_kpi_clst.to_excel(r'profiling_results_cluster.xlsx', index = True)\n",
    "tr_avg_kpi_clst\n"
   ]
  }
 ],
 "metadata": {
  "kernelspec": {
   "display_name": "Python 3",
   "language": "python",
   "name": "python3"
  },
  "language_info": {
   "codemirror_mode": {
    "name": "ipython",
    "version": 3
   },
   "file_extension": ".py",
   "mimetype": "text/x-python",
   "name": "python",
   "nbconvert_exporter": "python",
   "pygments_lexer": "ipython3",
   "version": "3.8.8"
  }
 },
 "nbformat": 4,
 "nbformat_minor": 5
}
